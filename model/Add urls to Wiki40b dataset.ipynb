{
 "cells": [
  {
   "cell_type": "code",
   "execution_count": 1,
   "id": "2c2d3a92",
   "metadata": {},
   "outputs": [
    {
     "data": {
      "text/html": [
       "        <script type=\"text/javascript\">\n",
       "        window.PlotlyConfig = {MathJaxConfig: 'local'};\n",
       "        if (window.MathJax) {MathJax.Hub.Config({SVG: {font: \"STIX-Web\"}});}\n",
       "        if (typeof require !== 'undefined') {\n",
       "        require.undef(\"plotly\");\n",
       "        requirejs.config({\n",
       "            paths: {\n",
       "                'plotly': ['https://cdn.plot.ly/plotly-2.2.0.min']\n",
       "            }\n",
       "        });\n",
       "        require(['plotly'], function(Plotly) {\n",
       "            window._Plotly = Plotly;\n",
       "        });\n",
       "        }\n",
       "        </script>\n",
       "        "
      ]
     },
     "metadata": {},
     "output_type": "display_data"
    },
    {
     "data": {
      "text/html": [
       "        <script type=\"text/javascript\">\n",
       "        window.PlotlyConfig = {MathJaxConfig: 'local'};\n",
       "        if (window.MathJax) {MathJax.Hub.Config({SVG: {font: \"STIX-Web\"}});}\n",
       "        if (typeof require !== 'undefined') {\n",
       "        require.undef(\"plotly\");\n",
       "        requirejs.config({\n",
       "            paths: {\n",
       "                'plotly': ['https://cdn.plot.ly/plotly-2.2.0.min']\n",
       "            }\n",
       "        });\n",
       "        require(['plotly'], function(Plotly) {\n",
       "            window._Plotly = Plotly;\n",
       "        });\n",
       "        }\n",
       "        </script>\n",
       "        "
      ]
     },
     "metadata": {},
     "output_type": "display_data"
    }
   ],
   "source": [
    "# plotly standard imports\n",
    "import plotly.graph_objs as go\n",
    "import chart_studio.plotly as py\n",
    "\n",
    "# Cufflinks wrapper on plotly\n",
    "import cufflinks\n",
    "\n",
    "# Data science imports\n",
    "import pandas as pd\n",
    "import numpy as np\n",
    "\n",
    "# Options for pandas\n",
    "pd.options.display.max_columns = 30\n",
    "\n",
    "# Display all cell outputs\n",
    "from IPython.core.interactiveshell import InteractiveShell\n",
    "InteractiveShell.ast_node_interactivity = 'all'\n",
    "\n",
    "from plotly.offline import iplot, init_notebook_mode\n",
    "cufflinks.go_offline(connected=True)\n",
    "init_notebook_mode(connected=True)\n",
    "\n",
    "# Set global theme\n",
    "cufflinks.set_config_file(world_readable=True, theme='pearl')"
   ]
  },
  {
   "cell_type": "markdown",
   "id": "ea1c2dac",
   "metadata": {},
   "source": [
    "Base dataset of Wiki40b contains Wikidata ids, but not contain urls. Will load urls and add them to dataset"
   ]
  },
  {
   "cell_type": "code",
   "execution_count": 2,
   "id": "704c7077",
   "metadata": {},
   "outputs": [
    {
     "data": {
      "application/vnd.jupyter.widget-view+json": {
       "model_id": "f0f2055b55d04599a84673ad8125ebcd",
       "version_major": 2,
       "version_minor": 0
      },
      "text/plain": [
       "Downloading:   0%|          | 0.00/2.11k [00:00<?, ?B/s]"
      ]
     },
     "metadata": {},
     "output_type": "display_data"
    },
    {
     "data": {
      "application/vnd.jupyter.widget-view+json": {
       "model_id": "5de3a2518e12435e9ddf97eaa4235b75",
       "version_major": 2,
       "version_minor": 0
      },
      "text/plain": [
       "Downloading:   0%|          | 0.00/580 [00:00<?, ?B/s]"
      ]
     },
     "metadata": {},
     "output_type": "display_data"
    },
    {
     "name": "stdout",
     "output_type": "stream",
     "text": [
      "Downloading and preparing dataset wiki_snippets/wiki40b_en_100_0 (download: Unknown size, generated: 11.98 GiB, post-processed: Unknown size, total: 11.98 GiB) to ./datasets/wiki_snippets/wiki40b_en_100_0/1.0.0/d152a0e6a420c02b9b26e7f75f45fb54c818cae1d83e8f164f0b1a13ac7998ae...\n"
     ]
    },
    {
     "data": {
      "application/vnd.jupyter.widget-view+json": {
       "model_id": "b5e8b61f9729494abcdd0644afb1b0ed",
       "version_major": 2,
       "version_minor": 0
      },
      "text/plain": [
       "Downloading:   0%|          | 0.00/2.03k [00:00<?, ?B/s]"
      ]
     },
     "metadata": {},
     "output_type": "display_data"
    },
    {
     "data": {
      "application/vnd.jupyter.widget-view+json": {
       "model_id": "432a0d5fe2bb4557a9cf5358fd7c8e85",
       "version_major": 2,
       "version_minor": 0
      },
      "text/plain": [
       "Downloading:   0%|          | 0.00/639 [00:00<?, ?B/s]"
      ]
     },
     "metadata": {},
     "output_type": "display_data"
    },
    {
     "name": "stdout",
     "output_type": "stream",
     "text": [
      "Downloading and preparing dataset wiki40b/en (download: Unknown size, generated: 9.75 GiB, post-processed: Unknown size, total: 9.75 GiB) to /root/.cache/huggingface/datasets/wiki40b/en/1.1.0/3d99a1f96eba780a027018e9a18c1b9a6f5809625e78804a915495f6193dfa5e...\n"
     ]
    },
    {
     "data": {
      "application/vnd.jupyter.widget-view+json": {
       "model_id": "a099a19bbd404ebab4e8c79f1ecfc999",
       "version_major": 2,
       "version_minor": 0
      },
      "text/plain": [
       "Downloading:   0%|          | 0.00/1.38k [00:00<?, ?B/s]"
      ]
     },
     "metadata": {},
     "output_type": "display_data"
    },
    {
     "data": {
      "application/vnd.jupyter.widget-view+json": {
       "model_id": "ce3c77f45c5944f48cd183a0fcbd844d",
       "version_major": 2,
       "version_minor": 0
      },
      "text/plain": [
       "Downloading:   0%|          | 0.00/9.42G [00:00<?, ?B/s]"
      ]
     },
     "metadata": {},
     "output_type": "display_data"
    },
    {
     "data": {
      "application/vnd.jupyter.widget-view+json": {
       "model_id": "828398e406444423ba1bc88c91d0a3e4",
       "version_major": 2,
       "version_minor": 0
      },
      "text/plain": [
       "Downloading:   0%|          | 0.00/527M [00:00<?, ?B/s]"
      ]
     },
     "metadata": {},
     "output_type": "display_data"
    },
    {
     "data": {
      "application/vnd.jupyter.widget-view+json": {
       "model_id": "52c4ad10c11c4e90b21f6465d94cf760",
       "version_major": 2,
       "version_minor": 0
      },
      "text/plain": [
       "Downloading:   0%|          | 0.00/522M [00:00<?, ?B/s]"
      ]
     },
     "metadata": {},
     "output_type": "display_data"
    },
    {
     "name": "stdout",
     "output_type": "stream",
     "text": [
      "Dataset wiki40b downloaded and prepared to /root/.cache/huggingface/datasets/wiki40b/en/1.1.0/3d99a1f96eba780a027018e9a18c1b9a6f5809625e78804a915495f6193dfa5e. Subsequent calls will reuse this data.\n"
     ]
    },
    {
     "data": {
      "application/vnd.jupyter.widget-view+json": {
       "model_id": "",
       "version_major": 2,
       "version_minor": 0
      },
      "text/plain": [
       "0 examples [00:00, ? examples/s]"
      ]
     },
     "metadata": {},
     "output_type": "display_data"
    },
    {
     "name": "stdout",
     "output_type": "stream",
     "text": [
      "Dataset wiki_snippets downloaded and prepared to ./datasets/wiki_snippets/wiki40b_en_100_0/1.0.0/d152a0e6a420c02b9b26e7f75f45fb54c818cae1d83e8f164f0b1a13ac7998ae. Subsequent calls will reuse this data.\n"
     ]
    }
   ],
   "source": [
    "from datasets import load_dataset\n",
    "\n",
    "wiki40b_snippets = load_dataset('wiki_snippets', name='wiki40b_en_100_0', cache_dir='./datasets')"
   ]
  },
  {
   "cell_type": "code",
   "execution_count": 3,
   "id": "47a5ed13",
   "metadata": {},
   "outputs": [
    {
     "data": {
      "text/plain": [
       "{'_id': '{\"datasets_id\": 1, \"wiki_id\": \"Q3588472\", \"sp\": 8, \"sc\": 209, \"ep\": 8, \"ec\": 312}',\n",
       " 'datasets_id': 1,\n",
       " 'wiki_id': 'Q3588472',\n",
       " 'start_paragraph': 8,\n",
       " 'start_character': 209,\n",
       " 'end_paragraph': 8,\n",
       " 'end_character': 312,\n",
       " 'article_title': 'Émile Dubonnet',\n",
       " 'section_title': 'Biography',\n",
       " 'passage_text': 'also helped form the first professional baseball league in France, the French Baseball Union, in 1912.'}"
      ]
     },
     "execution_count": 3,
     "metadata": {},
     "output_type": "execute_result"
    }
   ],
   "source": [
    "wiki40b_snippets['train'][3]"
   ]
  },
  {
   "cell_type": "code",
   "execution_count": 9,
   "id": "9f79a091",
   "metadata": {},
   "outputs": [],
   "source": [
    "import requests\n",
    "\n",
    "def get_page_url(wikidata_id, lang = 'enwiki'):\n",
    "\n",
    "    url = f'https://www.wikidata.org/w/api.php?action=wbgetentities&ids={wikidata_id}&format=json&props=sitelinks/urls&sitefilter={lang}'\n",
    "\n",
    "    response = requests.get(url).json()\n",
    "    \n",
    "    entities = response.get('entities')\n",
    "    if not entities:\n",
    "        return None\n",
    "\n",
    "    entity = entities.get(wikidata_id)\n",
    "    if not entity:\n",
    "        return None\n",
    "\n",
    "    sitelinks = entity.get('sitelinks')\n",
    "    if not sitelinks:\n",
    "        return None\n",
    "\n",
    "    sitelink = sitelinks.get(lang)\n",
    "    if not sitelink:\n",
    "        return None\n",
    "\n",
    "    wiki_url = sitelink.get('url')\n",
    "    if not wiki_url:\n",
    "        return wiki_url\n",
    "    \n",
    "    return requests.utils.unquote(wiki_url)"
   ]
  },
  {
   "cell_type": "code",
   "execution_count": 20,
   "id": "e674a430",
   "metadata": {},
   "outputs": [],
   "source": [
    "from tqdm.notebook import tqdm\n",
    "\n",
    "train_dataset = wiki40b_snippets['train']\n",
    "\n",
    "# def add_url(passage):\n",
    "#     print('get page', passage['wiki_id'])\n",
    "#     return {'page_url': get_page_url(passage['wiki_id'])}\n",
    "\n",
    "# train_dataset = train_dataset.map(add_url, num_proc=12)\n",
    "   \n",
    "# print(train_dataset[0])"
   ]
  },
  {
   "cell_type": "code",
   "execution_count": 21,
   "id": "17dfbfc4",
   "metadata": {},
   "outputs": [],
   "source": [
    "train_dataset.save_to_disk('./datasets/wiki_snippets_wiki40b_en_train_processed')"
   ]
  },
  {
   "cell_type": "code",
   "execution_count": null,
   "id": "8dfdf0ec",
   "metadata": {},
   "outputs": [],
   "source": []
  }
 ],
 "metadata": {
  "kernelspec": {
   "display_name": "Python 3",
   "language": "python",
   "name": "python3"
  },
  "language_info": {
   "codemirror_mode": {
    "name": "ipython",
    "version": 3
   },
   "file_extension": ".py",
   "mimetype": "text/x-python",
   "name": "python",
   "nbconvert_exporter": "python",
   "pygments_lexer": "ipython3",
   "version": "3.6.9"
  }
 },
 "nbformat": 4,
 "nbformat_minor": 5
}
