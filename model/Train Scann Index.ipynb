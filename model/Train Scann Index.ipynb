{
 "cells": [
  {
   "cell_type": "markdown",
   "id": "16e26cca",
   "metadata": {},
   "source": [
    "# Train index\n",
    "\n",
    "Will preform training on index, for compress it"
   ]
  },
  {
   "cell_type": "code",
   "execution_count": 1,
   "id": "c2e6eb65",
   "metadata": {
    "scrolled": true
   },
   "outputs": [
    {
     "name": "stdout",
     "output_type": "stream",
     "text": [
      "Collecting scann\n",
      "  Downloading scann-1.2.3-cp36-cp36m-manylinux2014_x86_64.whl (10.6 MB)\n",
      "\u001b[K     |████████████████████████████████| 10.6 MB 5.3 MB/s eta 0:00:01    |██████████████████████▌         | 7.4 MB 3.8 MB/s eta 0:00:01\n",
      "\u001b[?25hCollecting tensorflow~=2.6.0\n",
      "  Downloading tensorflow-2.6.0-cp36-cp36m-manylinux2010_x86_64.whl (458.3 MB)\n",
      "\u001b[K     |████████████████████████████████| 458.3 MB 46 kB/s  eta 0:00:01    |▉                               | 11.2 MB 6.3 MB/s eta 0:01:12     |█                               | 15.2 MB 5.5 MB/s eta 0:01:21     |█▏                              | 16.7 MB 5.5 MB/s eta 0:01:20     |███▍                            | 48.9 MB 5.3 MB/s eta 0:01:18     |███▉                            | 55.2 MB 4.6 MB/s eta 0:01:28     |████▎                           | 61.8 MB 6.5 MB/s eta 0:01:01     |████▌                           | 63.8 MB 6.5 MB/s eta 0:01:01     |███████                         | 99.4 MB 6.3 MB/s eta 0:00:57     |████████                        | 113.6 MB 6.3 MB/s eta 0:00:55     |████████▋                       | 123.1 MB 6.3 MB/s eta 0:00:53     |█████████▊                      | 139.6 MB 6.0 MB/s eta 0:00:54     |██████████▎                     | 146.4 MB 6.3 MB/s eta 0:00:50     |████████████▋                   | 180.4 MB 5.6 MB/s eta 0:00:50     |████████████▊                   | 181.9 MB 5.6 MB/s eta 0:00:50     |█████████████▊                  | 196.1 MB 6.1 MB/s eta 0:00:43     |███████████████▊                | 225.0 MB 6.3 MB/s eta 0:00:38     |████████████████▏               | 231.6 MB 2.7 MB/s eta 0:01:25     |████████████████▎               | 233.0 MB 2.7 MB/s eta 0:01:24     |████████████████▊               | 238.8 MB 2.9 MB/s eta 0:01:16     |█████████████████▉              | 255.4 MB 6.4 MB/s eta 0:00:32     |██████████████████              | 257.0 MB 6.4 MB/s eta 0:00:32     |██████████████████▋             | 266.5 MB 6.3 MB/s eta 0:00:31     |██████████████████▉             | 269.3 MB 6.3 MB/s eta 0:00:31     |███████████████████▊            | 283.1 MB 5.6 MB/s eta 0:00:32     |███████████████████████▎        | 333.4 MB 2.5 MB/s eta 0:00:50     |███████████████████████▋        | 338.2 MB 2.5 MB/s eta 0:00:48     |█████████████████████████       | 357.5 MB 6.3 MB/s eta 0:00:17     |██████████████████████████      | 372.9 MB 3.0 MB/s eta 0:00:29     |██████████████████████████      | 373.5 MB 5.3 MB/s eta 0:00:16     |██████████████████████████▊     | 382.8 MB 6.3 MB/s eta 0:00:12     |███████████████████████████     | 386.5 MB 6.0 MB/s eta 0:00:12     |████████████████████████████▊   | 412.1 MB 6.4 MB/s eta 0:00:08     |██████████████████████████████▌ | 436.9 MB 6.3 MB/s eta 0:00:04     |██████████████████████████████▋ | 438.4 MB 6.3 MB/s eta 0:00:04     |██████████████████████████████▊ | 439.7 MB 6.3 MB/s eta 0:00:03\n",
      "\u001b[?25hRequirement already satisfied: numpy in /usr/local/lib/python3.6/dist-packages (from scann) (1.19.5)\n",
      "Requirement already satisfied: wrapt~=1.12.1 in /usr/local/lib/python3.6/dist-packages (from tensorflow~=2.6.0->scann) (1.12.1)\n",
      "Collecting tensorflow-estimator~=2.6\n",
      "  Downloading tensorflow_estimator-2.6.0-py2.py3-none-any.whl (462 kB)\n",
      "\u001b[K     |████████████████████████████████| 462 kB 6.0 MB/s eta 0:00:01\n",
      "\u001b[?25hCollecting tensorboard~=2.6\n",
      "  Downloading tensorboard-2.6.0-py3-none-any.whl (5.6 MB)\n",
      "\u001b[K     |████████████████████████████████| 5.6 MB 4.5 MB/s eta 0:00:01\n",
      "\u001b[?25hRequirement already satisfied: keras-preprocessing~=1.1.2 in /usr/local/lib/python3.6/dist-packages (from tensorflow~=2.6.0->scann) (1.1.2)\n",
      "Requirement already satisfied: google-pasta~=0.2 in /usr/local/lib/python3.6/dist-packages (from tensorflow~=2.6.0->scann) (0.2.0)\n",
      "Requirement already satisfied: protobuf>=3.9.2 in /usr/local/lib/python3.6/dist-packages (from tensorflow~=2.6.0->scann) (3.17.0)\n",
      "Requirement already satisfied: six~=1.15.0 in /usr/local/lib/python3.6/dist-packages (from tensorflow~=2.6.0->scann) (1.15.0)\n",
      "Requirement already satisfied: typing-extensions~=3.7.4 in /usr/local/lib/python3.6/dist-packages (from tensorflow~=2.6.0->scann) (3.7.4.3)\n",
      "Requirement already satisfied: termcolor~=1.1.0 in /usr/local/lib/python3.6/dist-packages (from tensorflow~=2.6.0->scann) (1.1.0)\n",
      "Requirement already satisfied: astunparse~=1.6.3 in /usr/local/lib/python3.6/dist-packages (from tensorflow~=2.6.0->scann) (1.6.3)\n",
      "Requirement already satisfied: opt-einsum~=3.3.0 in /usr/local/lib/python3.6/dist-packages (from tensorflow~=2.6.0->scann) (3.3.0)\n",
      "Requirement already satisfied: absl-py~=0.10 in /usr/local/lib/python3.6/dist-packages (from tensorflow~=2.6.0->scann) (0.12.0)\n",
      "Requirement already satisfied: wheel~=0.35 in /usr/local/lib/python3.6/dist-packages (from tensorflow~=2.6.0->scann) (0.36.2)\n",
      "Collecting keras~=2.6\n",
      "  Downloading keras-2.6.0-py2.py3-none-any.whl (1.3 MB)\n",
      "\u001b[K     |████████████████████████████████| 1.3 MB 7.1 MB/s eta 0:00:01\n",
      "\u001b[?25hRequirement already satisfied: gast==0.4.0 in /usr/local/lib/python3.6/dist-packages (from tensorflow~=2.6.0->scann) (0.4.0)\n",
      "Requirement already satisfied: h5py~=3.1.0 in /usr/local/lib/python3.6/dist-packages (from tensorflow~=2.6.0->scann) (3.1.0)\n",
      "Collecting grpcio<2.0,>=1.37.0\n",
      "  Downloading grpcio-1.39.0-cp36-cp36m-manylinux2014_x86_64.whl (4.3 MB)\n",
      "\u001b[K     |████████████████████████████████| 4.3 MB 11.1 MB/s eta 0:00:01\n",
      "\u001b[?25hRequirement already satisfied: flatbuffers~=1.12.0 in /usr/local/lib/python3.6/dist-packages (from tensorflow~=2.6.0->scann) (1.12)\n",
      "Collecting clang~=5.0\n",
      "  Downloading clang-5.0.tar.gz (30 kB)\n",
      "Requirement already satisfied: requests<3,>=2.21.0 in /usr/local/lib/python3.6/dist-packages (from tensorboard~=2.6->tensorflow~=2.6.0->scann) (2.25.1)\n",
      "Requirement already satisfied: tensorboard-plugin-wit>=1.6.0 in /usr/local/lib/python3.6/dist-packages (from tensorboard~=2.6->tensorflow~=2.6.0->scann) (1.8.0)\n",
      "Requirement already satisfied: markdown>=2.6.8 in /usr/local/lib/python3.6/dist-packages (from tensorboard~=2.6->tensorflow~=2.6.0->scann) (3.3.4)\n",
      "Requirement already satisfied: setuptools>=41.0.0 in /usr/local/lib/python3.6/dist-packages (from tensorboard~=2.6->tensorflow~=2.6.0->scann) (56.2.0)\n",
      "Requirement already satisfied: tensorboard-data-server<0.7.0,>=0.6.0 in /usr/local/lib/python3.6/dist-packages (from tensorboard~=2.6->tensorflow~=2.6.0->scann) (0.6.1)\n",
      "Requirement already satisfied: google-auth-oauthlib<0.5,>=0.4.1 in /usr/local/lib/python3.6/dist-packages (from tensorboard~=2.6->tensorflow~=2.6.0->scann) (0.4.4)\n",
      "Requirement already satisfied: google-auth<2,>=1.6.3 in /usr/local/lib/python3.6/dist-packages (from tensorboard~=2.6->tensorflow~=2.6.0->scann) (1.30.0)\n",
      "Requirement already satisfied: werkzeug>=0.11.15 in /usr/local/lib/python3.6/dist-packages (from tensorboard~=2.6->tensorflow~=2.6.0->scann) (2.0.0)\n",
      "Requirement already satisfied: cached-property; python_version < \"3.8\" in /usr/local/lib/python3.6/dist-packages (from h5py~=3.1.0->tensorflow~=2.6.0->scann) (1.5.2)\n",
      "Requirement already satisfied: idna<3,>=2.5 in /usr/lib/python3/dist-packages (from requests<3,>=2.21.0->tensorboard~=2.6->tensorflow~=2.6.0->scann) (2.6)\n",
      "Requirement already satisfied: chardet<5,>=3.0.2 in /usr/local/lib/python3.6/dist-packages (from requests<3,>=2.21.0->tensorboard~=2.6->tensorflow~=2.6.0->scann) (4.0.0)\n",
      "Requirement already satisfied: urllib3<1.27,>=1.21.1 in /usr/local/lib/python3.6/dist-packages (from requests<3,>=2.21.0->tensorboard~=2.6->tensorflow~=2.6.0->scann) (1.26.4)\n",
      "Requirement already satisfied: certifi>=2017.4.17 in /usr/local/lib/python3.6/dist-packages (from requests<3,>=2.21.0->tensorboard~=2.6->tensorflow~=2.6.0->scann) (2020.12.5)\n",
      "Requirement already satisfied: importlib-metadata; python_version < \"3.8\" in /usr/local/lib/python3.6/dist-packages (from markdown>=2.6.8->tensorboard~=2.6->tensorflow~=2.6.0->scann) (4.0.1)\n",
      "Requirement already satisfied: requests-oauthlib>=0.7.0 in /usr/local/lib/python3.6/dist-packages (from google-auth-oauthlib<0.5,>=0.4.1->tensorboard~=2.6->tensorflow~=2.6.0->scann) (1.3.0)\n",
      "Requirement already satisfied: pyasn1-modules>=0.2.1 in /usr/local/lib/python3.6/dist-packages (from google-auth<2,>=1.6.3->tensorboard~=2.6->tensorflow~=2.6.0->scann) (0.2.8)\n",
      "Requirement already satisfied: rsa<5,>=3.1.4; python_version >= \"3.6\" in /usr/local/lib/python3.6/dist-packages (from google-auth<2,>=1.6.3->tensorboard~=2.6->tensorflow~=2.6.0->scann) (4.7.2)\n"
     ]
    },
    {
     "name": "stdout",
     "output_type": "stream",
     "text": [
      "Requirement already satisfied: cachetools<5.0,>=2.0.0 in /usr/local/lib/python3.6/dist-packages (from google-auth<2,>=1.6.3->tensorboard~=2.6->tensorflow~=2.6.0->scann) (4.2.2)\n",
      "Requirement already satisfied: dataclasses; python_version < \"3.7\" in /usr/local/lib/python3.6/dist-packages (from werkzeug>=0.11.15->tensorboard~=2.6->tensorflow~=2.6.0->scann) (0.8)\n",
      "Requirement already satisfied: zipp>=0.5 in /usr/local/lib/python3.6/dist-packages (from importlib-metadata; python_version < \"3.8\"->markdown>=2.6.8->tensorboard~=2.6->tensorflow~=2.6.0->scann) (3.4.1)\n",
      "Requirement already satisfied: oauthlib>=3.0.0 in /usr/local/lib/python3.6/dist-packages (from requests-oauthlib>=0.7.0->google-auth-oauthlib<0.5,>=0.4.1->tensorboard~=2.6->tensorflow~=2.6.0->scann) (3.1.0)\n",
      "Requirement already satisfied: pyasn1<0.5.0,>=0.4.6 in /usr/local/lib/python3.6/dist-packages (from pyasn1-modules>=0.2.1->google-auth<2,>=1.6.3->tensorboard~=2.6->tensorflow~=2.6.0->scann) (0.4.8)\n",
      "Building wheels for collected packages: clang\n",
      "  Building wheel for clang (setup.py) ... \u001b[?25ldone\n",
      "\u001b[?25h  Created wheel for clang: filename=clang-5.0-py3-none-any.whl size=30693 sha256=618bad019d15841da1a2664cef1e46c5e6ec6529a173192f4137f9604bda204c\n",
      "  Stored in directory: /root/.cache/pip/wheels/22/4c/94/0583f60c9c5b6024ed64f290cb2d43b06bb4f75577dc3c93a7\n",
      "Successfully built clang\n",
      "Installing collected packages: tensorflow-estimator, grpcio, tensorboard, keras, clang, tensorflow, scann\n",
      "  Attempting uninstall: tensorflow-estimator\n",
      "    Found existing installation: tensorflow-estimator 2.5.0rc0\n",
      "    Uninstalling tensorflow-estimator-2.5.0rc0:\n",
      "      Successfully uninstalled tensorflow-estimator-2.5.0rc0\n",
      "  Attempting uninstall: grpcio\n",
      "    Found existing installation: grpcio 1.34.1\n",
      "    Uninstalling grpcio-1.34.1:\n",
      "      Successfully uninstalled grpcio-1.34.1\n",
      "  Attempting uninstall: tensorboard\n",
      "    Found existing installation: tensorboard 2.5.0\n",
      "    Uninstalling tensorboard-2.5.0:\n",
      "      Successfully uninstalled tensorboard-2.5.0\n",
      "  Attempting uninstall: tensorflow\n",
      "    Found existing installation: tensorflow 2.5.0\n",
      "    Uninstalling tensorflow-2.5.0:\n",
      "      Successfully uninstalled tensorflow-2.5.0\n",
      "\u001b[31mERROR: After October 2020 you may experience errors when installing or updating packages. This is because pip will change the way that it resolves dependency conflicts.\n",
      "\n",
      "We recommend you use --use-feature=2020-resolver to test your packages with the new resolver before it becomes the default.\n",
      "\n",
      "apache-beam 2.31.0 requires dill<0.3.2,>=0.3.1.1, but you'll have dill 0.3.4 which is incompatible.\u001b[0m\n",
      "Successfully installed clang-5.0 grpcio-1.39.0 keras-2.6.0 scann-1.2.3 tensorboard-2.6.0 tensorflow-2.6.0 tensorflow-estimator-2.6.0\n",
      "\u001b[33mWARNING: You are using pip version 20.2.4; however, version 21.2.4 is available.\n",
      "You should consider upgrading via the '/usr/bin/python3 -m pip install --upgrade pip' command.\u001b[0m\n"
     ]
    }
   ],
   "source": [
    "!pip install scann"
   ]
  },
  {
   "cell_type": "code",
   "execution_count": 4,
   "id": "1d2f26b9",
   "metadata": {},
   "outputs": [
    {
     "data": {
      "text/html": [
       "        <script type=\"text/javascript\">\n",
       "        window.PlotlyConfig = {MathJaxConfig: 'local'};\n",
       "        if (window.MathJax) {MathJax.Hub.Config({SVG: {font: \"STIX-Web\"}});}\n",
       "        if (typeof require !== 'undefined') {\n",
       "        require.undef(\"plotly\");\n",
       "        requirejs.config({\n",
       "            paths: {\n",
       "                'plotly': ['https://cdn.plot.ly/plotly-2.2.0.min']\n",
       "            }\n",
       "        });\n",
       "        require(['plotly'], function(Plotly) {\n",
       "            window._Plotly = Plotly;\n",
       "        });\n",
       "        }\n",
       "        </script>\n",
       "        "
      ]
     },
     "metadata": {},
     "output_type": "display_data"
    },
    {
     "data": {
      "text/html": [
       "        <script type=\"text/javascript\">\n",
       "        window.PlotlyConfig = {MathJaxConfig: 'local'};\n",
       "        if (window.MathJax) {MathJax.Hub.Config({SVG: {font: \"STIX-Web\"}});}\n",
       "        if (typeof require !== 'undefined') {\n",
       "        require.undef(\"plotly\");\n",
       "        requirejs.config({\n",
       "            paths: {\n",
       "                'plotly': ['https://cdn.plot.ly/plotly-2.2.0.min']\n",
       "            }\n",
       "        });\n",
       "        require(['plotly'], function(Plotly) {\n",
       "            window._Plotly = Plotly;\n",
       "        });\n",
       "        }\n",
       "        </script>\n",
       "        "
      ]
     },
     "metadata": {},
     "output_type": "display_data"
    }
   ],
   "source": [
    "# plotly standard imports\n",
    "import plotly.graph_objs as go\n",
    "import chart_studio.plotly as py\n",
    "\n",
    "# Cufflinks wrapper on plotly\n",
    "import cufflinks\n",
    "\n",
    "# Data science imports\n",
    "import pandas as pd\n",
    "import numpy as np\n",
    "\n",
    "# Options for pandas\n",
    "pd.options.display.max_columns = 30\n",
    "\n",
    "# Display all cell outputs\n",
    "from IPython.core.interactiveshell import InteractiveShell\n",
    "InteractiveShell.ast_node_interactivity = 'all'\n",
    "\n",
    "from plotly.offline import iplot, init_notebook_mode\n",
    "cufflinks.go_offline(connected=True)\n",
    "init_notebook_mode(connected=True)\n",
    "\n",
    "# Set global theme\n",
    "cufflinks.set_config_file(world_readable=True, theme='pearl')"
   ]
  },
  {
   "cell_type": "markdown",
   "id": "4b9e1f2e",
   "metadata": {},
   "source": [
    "## Save simple index\n",
    "\n",
    "Save simple index without compression"
   ]
  },
  {
   "cell_type": "code",
   "execution_count": 5,
   "id": "d7cf3f98",
   "metadata": {},
   "outputs": [],
   "source": [
    "import numpy as np\n",
    "\n",
    "num_rows = 17553713\n",
    "batch_size = 128\n",
    "\n",
    "filename = './indexes/wiki40b_passages_reps_32_l-8_h-768_b-512-512.dat'\n",
    "\n",
    "passages_reps = np.memmap(\n",
    "    filename,\n",
    "    dtype='float32', mode='r',\n",
    "    shape=(num_rows, batch_size)\n",
    ")"
   ]
  },
  {
   "cell_type": "markdown",
   "id": "a13416d1",
   "metadata": {},
   "source": [
    "# Train index with compression"
   ]
  },
  {
   "cell_type": "code",
   "execution_count": 7,
   "id": "11c83c08",
   "metadata": {},
   "outputs": [],
   "source": [
    "import scann\n",
    "\n",
    "# Based on https://github.com/google-research/google-research/blob/master/scann/docs/example.ipynb\n",
    "num_leaves=262144\n",
    "num_leaves_to_search=num_leaves // 1\n",
    "training_sample_size=17553713\n",
    "\n",
    "searcher = scann.scann_ops_pybind.builder(passages_reps, 10, \"dot_product\") \\\n",
    "    .tree(\n",
    "        num_leaves=num_leaves, \n",
    "        num_leaves_to_search=num_leaves_to_search,\n",
    "        training_sample_size=training_sample_size,\n",
    "    ) \\\n",
    "    .score_brute_force(quantize=True) \\\n",
    "    .build()\n"
   ]
  },
  {
   "cell_type": "code",
   "execution_count": 9,
   "id": "1a85cc24",
   "metadata": {},
   "outputs": [],
   "source": [
    "save_index_filename = './indexes/scann262144x1_wiki40b_num_17553713_brute_force/'"
   ]
  },
  {
   "cell_type": "code",
   "execution_count": 11,
   "id": "efc0a26d",
   "metadata": {},
   "outputs": [],
   "source": [
    "import os\n",
    "\n",
    "os.makedirs(save_index_filename, exist_ok=True)\n",
    "\n",
    "searcher.serialize(save_index_filename)"
   ]
  },
  {
   "cell_type": "code",
   "execution_count": null,
   "id": "062866d7",
   "metadata": {},
   "outputs": [],
   "source": []
  }
 ],
 "metadata": {
  "kernelspec": {
   "display_name": "Python 3",
   "language": "python",
   "name": "python3"
  },
  "language_info": {
   "codemirror_mode": {
    "name": "ipython",
    "version": 3
   },
   "file_extension": ".py",
   "mimetype": "text/x-python",
   "name": "python",
   "nbconvert_exporter": "python",
   "pygments_lexer": "ipython3",
   "version": "3.6.9"
  }
 },
 "nbformat": 4,
 "nbformat_minor": 5
}
