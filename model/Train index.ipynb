{
 "cells": [
  {
   "cell_type": "markdown",
   "id": "16e26cca",
   "metadata": {},
   "source": [
    "# Train index\n",
    "\n",
    "Will preform training on index, for compress it"
   ]
  },
  {
   "cell_type": "code",
   "execution_count": 1,
   "id": "1d2f26b9",
   "metadata": {},
   "outputs": [
    {
     "data": {
      "text/html": [
       "        <script type=\"text/javascript\">\n",
       "        window.PlotlyConfig = {MathJaxConfig: 'local'};\n",
       "        if (window.MathJax) {MathJax.Hub.Config({SVG: {font: \"STIX-Web\"}});}\n",
       "        if (typeof require !== 'undefined') {\n",
       "        require.undef(\"plotly\");\n",
       "        requirejs.config({\n",
       "            paths: {\n",
       "                'plotly': ['https://cdn.plot.ly/plotly-2.2.0.min']\n",
       "            }\n",
       "        });\n",
       "        require(['plotly'], function(Plotly) {\n",
       "            window._Plotly = Plotly;\n",
       "        });\n",
       "        }\n",
       "        </script>\n",
       "        "
      ]
     },
     "metadata": {},
     "output_type": "display_data"
    },
    {
     "data": {
      "text/html": [
       "        <script type=\"text/javascript\">\n",
       "        window.PlotlyConfig = {MathJaxConfig: 'local'};\n",
       "        if (window.MathJax) {MathJax.Hub.Config({SVG: {font: \"STIX-Web\"}});}\n",
       "        if (typeof require !== 'undefined') {\n",
       "        require.undef(\"plotly\");\n",
       "        requirejs.config({\n",
       "            paths: {\n",
       "                'plotly': ['https://cdn.plot.ly/plotly-2.2.0.min']\n",
       "            }\n",
       "        });\n",
       "        require(['plotly'], function(Plotly) {\n",
       "            window._Plotly = Plotly;\n",
       "        });\n",
       "        }\n",
       "        </script>\n",
       "        "
      ]
     },
     "metadata": {},
     "output_type": "display_data"
    }
   ],
   "source": [
    "# plotly standard imports\n",
    "import plotly.graph_objs as go\n",
    "import chart_studio.plotly as py\n",
    "\n",
    "# Cufflinks wrapper on plotly\n",
    "import cufflinks\n",
    "\n",
    "# Data science imports\n",
    "import pandas as pd\n",
    "import numpy as np\n",
    "\n",
    "# Options for pandas\n",
    "pd.options.display.max_columns = 30\n",
    "\n",
    "# Display all cell outputs\n",
    "from IPython.core.interactiveshell import InteractiveShell\n",
    "InteractiveShell.ast_node_interactivity = 'all'\n",
    "\n",
    "from plotly.offline import iplot, init_notebook_mode\n",
    "cufflinks.go_offline(connected=True)\n",
    "init_notebook_mode(connected=True)\n",
    "\n",
    "# Set global theme\n",
    "cufflinks.set_config_file(world_readable=True, theme='pearl')"
   ]
  },
  {
   "cell_type": "markdown",
   "id": "4b9e1f2e",
   "metadata": {},
   "source": [
    "## Save simple index\n",
    "\n",
    "Save simple index without compression"
   ]
  },
  {
   "cell_type": "code",
   "execution_count": 2,
   "id": "d7cf3f98",
   "metadata": {},
   "outputs": [],
   "source": [
    "import numpy as np\n",
    "\n",
    "num_rows = 17553713\n",
    "batch_size = 128\n",
    "\n",
    "filename = './indexes/wiki40b_passages_reps_32_l-8_h-768_b-512-512.dat'\n",
    "\n",
    "passages_reps = np.memmap(\n",
    "    filename,\n",
    "    dtype='float32', mode='r',\n",
    "    shape=(num_rows, batch_size)\n",
    ")"
   ]
  },
  {
   "cell_type": "code",
   "execution_count": 6,
   "id": "a0800ae9",
   "metadata": {},
   "outputs": [],
   "source": [
    "import faiss\n",
    "\n",
    "index = faiss.IndexFlatIP(batch_size)"
   ]
  },
  {
   "cell_type": "code",
   "execution_count": 7,
   "id": "5069bcb5",
   "metadata": {},
   "outputs": [],
   "source": [
    "index.add(passages_reps)"
   ]
  },
  {
   "cell_type": "code",
   "execution_count": 9,
   "id": "25015de1",
   "metadata": {},
   "outputs": [],
   "source": [
    "faiss.write_index(index, './indexes/flat_wiki40b_num_17553713_vector_128_no_compress.index')"
   ]
  },
  {
   "cell_type": "markdown",
   "id": "a13416d1",
   "metadata": {},
   "source": [
    "# Train index with compression"
   ]
  },
  {
   "cell_type": "code",
   "execution_count": 3,
   "id": "11c83c08",
   "metadata": {},
   "outputs": [],
   "source": [
    "import faiss\n",
    "\n",
    "# Explanation https://github.com/facebookresearch/faiss/wiki/Guidelines-to-choose-an-index\n",
    "D = batch_size / 2\n",
    "M = D / 4\n",
    "K = 262144\n",
    "index = faiss.index_factory(batch_size, f'OPQ{M}_{D},IVF{K}_HNSW32,PQ{M}') # High compression, speed 0.017760442368741334 p/s\n",
    "# index = faiss.index_factory(batch_size, f'OPQ{M}_{D},IVF{K}_HNSW32,PQ{M}x4fsr') # Low compression, speed 0.016993699426944037 p/s"
   ]
  },
  {
   "cell_type": "code",
   "execution_count": 4,
   "id": "8de7c623",
   "metadata": {},
   "outputs": [
    {
     "data": {
      "text/plain": [
       "17553713"
      ]
     },
     "execution_count": 4,
     "metadata": {},
     "output_type": "execute_result"
    }
   ],
   "source": [
    "len(passages_reps)"
   ]
  },
  {
   "cell_type": "code",
   "execution_count": 5,
   "id": "78d3eaac",
   "metadata": {},
   "outputs": [],
   "source": [
    "faiss_res = faiss.StandardGpuResources()\n",
    "\n",
    "index = faiss.index_cpu_to_gpu(faiss_res, 0, index)"
   ]
  },
  {
   "cell_type": "code",
   "execution_count": 7,
   "id": "81f3e7a5",
   "metadata": {},
   "outputs": [
    {
     "data": {
      "text/plain": [
       "17553713"
      ]
     },
     "execution_count": 7,
     "metadata": {},
     "output_type": "execute_result"
    }
   ],
   "source": [
    "train_size = 100 * K\n",
    "train_reps = passages_reps[:train_size]\n",
    "len(train_reps)"
   ]
  },
  {
   "cell_type": "markdown",
   "id": "b341bf05",
   "metadata": {},
   "source": [
    "started at 21.08.2021 16:45"
   ]
  },
  {
   "cell_type": "code",
   "execution_count": null,
   "id": "36296f99",
   "metadata": {},
   "outputs": [
    {
     "name": "stdout",
     "output_type": "stream",
     "text": [
      "Started at 2021-08-21 13:45:34.781853\n",
      "Will train 17553713\n"
     ]
    }
   ],
   "source": [
    "import time\n",
    "from datetime import datetime\n",
    "\n",
    "start = time.time()\n",
    "print('Started at', datetime.fromtimestamp(start))\n",
    "print('Will train', len(train_reps))\n",
    "\n",
    "index.train(passages_reps)\n",
    "\n",
    "end = time.time()\n",
    "print('Took seconds:', end - start)"
   ]
  },
  {
   "cell_type": "code",
   "execution_count": null,
   "id": "b59725fc",
   "metadata": {},
   "outputs": [],
   "source": [
    "seconds = end - start\n",
    "print('Training took', seconds, 'seconds')\n",
    "print('Hours', seconds / 60 / 60)\n",
    "\n",
    "speed = len(train_reps) / seconds\n",
    "print('Speed', speed, 'p/s')"
   ]
  },
  {
   "cell_type": "code",
   "execution_count": null,
   "id": "a6a7c752",
   "metadata": {},
   "outputs": [],
   "source": [
    "index.add(passages_reps)"
   ]
  },
  {
   "cell_type": "code",
   "execution_count": null,
   "id": "93c582a4",
   "metadata": {},
   "outputs": [],
   "source": [
    "index = faiss.index_gpu_to_cpu(index)"
   ]
  },
  {
   "cell_type": "code",
   "execution_count": null,
   "id": "8f807795",
   "metadata": {},
   "outputs": [],
   "source": [
    "faiss.write_index(index, './indexes/ivf_wiki40b_num_17553713_vector_128_high_compress_17M_train.index')"
   ]
  },
  {
   "cell_type": "code",
   "execution_count": null,
   "id": "52376345",
   "metadata": {},
   "outputs": [],
   "source": []
  }
 ],
 "metadata": {
  "kernelspec": {
   "display_name": "Python 3",
   "language": "python",
   "name": "python3"
  },
  "language_info": {
   "codemirror_mode": {
    "name": "ipython",
    "version": 3
   },
   "file_extension": ".py",
   "mimetype": "text/x-python",
   "name": "python",
   "nbconvert_exporter": "python",
   "pygments_lexer": "ipython3",
   "version": "3.6.9"
  }
 },
 "nbformat": 4,
 "nbformat_minor": 5
}
