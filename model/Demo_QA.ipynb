{
 "cells": [
  {
   "cell_type": "markdown",
   "id": "8a1d80e6",
   "metadata": {},
   "source": [
    "# Demo QA\n",
    "\n",
    "Demo of questions and answers for system"
   ]
  },
  {
   "cell_type": "code",
   "execution_count": 1,
   "id": "9fec2aed",
   "metadata": {},
   "outputs": [
    {
     "data": {
      "text/html": [
       "        <script type=\"text/javascript\">\n",
       "        window.PlotlyConfig = {MathJaxConfig: 'local'};\n",
       "        if (window.MathJax) {MathJax.Hub.Config({SVG: {font: \"STIX-Web\"}});}\n",
       "        if (typeof require !== 'undefined') {\n",
       "        require.undef(\"plotly\");\n",
       "        requirejs.config({\n",
       "            paths: {\n",
       "                'plotly': ['https://cdn.plot.ly/plotly-2.2.0.min']\n",
       "            }\n",
       "        });\n",
       "        require(['plotly'], function(Plotly) {\n",
       "            window._Plotly = Plotly;\n",
       "        });\n",
       "        }\n",
       "        </script>\n",
       "        "
      ]
     },
     "metadata": {},
     "output_type": "display_data"
    },
    {
     "data": {
      "text/html": [
       "        <script type=\"text/javascript\">\n",
       "        window.PlotlyConfig = {MathJaxConfig: 'local'};\n",
       "        if (window.MathJax) {MathJax.Hub.Config({SVG: {font: \"STIX-Web\"}});}\n",
       "        if (typeof require !== 'undefined') {\n",
       "        require.undef(\"plotly\");\n",
       "        requirejs.config({\n",
       "            paths: {\n",
       "                'plotly': ['https://cdn.plot.ly/plotly-2.2.0.min']\n",
       "            }\n",
       "        });\n",
       "        require(['plotly'], function(Plotly) {\n",
       "            window._Plotly = Plotly;\n",
       "        });\n",
       "        }\n",
       "        </script>\n",
       "        "
      ]
     },
     "metadata": {},
     "output_type": "display_data"
    }
   ],
   "source": [
    "# plotly standard imports\n",
    "import plotly.graph_objs as go\n",
    "import chart_studio.plotly as py\n",
    "\n",
    "# Cufflinks wrapper on plotly\n",
    "import cufflinks\n",
    "\n",
    "# Data science imports\n",
    "import pandas as pd\n",
    "import numpy as np\n",
    "\n",
    "# Options for pandas\n",
    "pd.options.display.max_columns = 30\n",
    "\n",
    "# Display all cell outputs\n",
    "from IPython.core.interactiveshell import InteractiveShell\n",
    "InteractiveShell.ast_node_interactivity = 'all'\n",
    "\n",
    "from plotly.offline import iplot, init_notebook_mode\n",
    "cufflinks.go_offline(connected=True)\n",
    "init_notebook_mode(connected=True)\n",
    "\n",
    "# Set global theme\n",
    "cufflinks.set_config_file(world_readable=True, theme='pearl')"
   ]
  },
  {
   "cell_type": "markdown",
   "id": "189dcc27",
   "metadata": {},
   "source": [
    "## Evaluate Search Engine\n",
    "\n",
    "Check how search engine found context for system"
   ]
  },
  {
   "cell_type": "code",
   "execution_count": 2,
   "id": "ec21d744",
   "metadata": {
    "scrolled": true
   },
   "outputs": [
    {
     "name": "stderr",
     "output_type": "stream",
     "text": [
      "Reusing dataset eli5 (./datasets/eli5/LFQA_reddit/1.0.0/339112ecaedfbceb5b50e2b05935a382d504f72b4fdb27ce0f697102d4eb0535)\n",
      "Reusing dataset wiki_snippets (./datasets/wiki_snippets/wiki40b_en_100_0/1.0.0/d152a0e6a420c02b9b26e7f75f45fb54c818cae1d83e8f164f0b1a13ac7998ae)\n"
     ]
    }
   ],
   "source": [
    "from datasets import load_dataset\n",
    "\n",
    "eli5 = load_dataset('eli5', cache_dir='./datasets')\n",
    "wiki40b_snippets = load_dataset('wiki_snippets', name='wiki40b_en_100_0', cache_dir='./datasets')['train']"
   ]
  },
  {
   "cell_type": "code",
   "execution_count": 3,
   "id": "9d8f6d3d",
   "metadata": {},
   "outputs": [],
   "source": [
    "from lfqa_utils import *"
   ]
  },
  {
   "cell_type": "code",
   "execution_count": 4,
   "id": "bec25996",
   "metadata": {},
   "outputs": [
    {
     "name": "stderr",
     "output_type": "stream",
     "text": [
      "Some weights of RetriBertModel were not initialized from the model checkpoint at yjernite/retribert-base-uncased and are newly initialized: ['bert_query.embeddings.position_ids']\n",
      "You should probably TRAIN this model on a down-stream task to be able to use it for predictions and inference.\n"
     ]
    }
   ],
   "source": [
    "qar_tokenizer = AutoTokenizer.from_pretrained('yjernite/retribert-base-uncased', cache_dir='./tokenaizers')\n",
    "qar_model = AutoModel.from_pretrained('yjernite/retribert-base-uncased', cache_dir='./models').to('cuda:0')\n",
    "_ = qar_model.eval()"
   ]
  },
  {
   "cell_type": "code",
   "execution_count": 5,
   "id": "93bfbdb5",
   "metadata": {},
   "outputs": [],
   "source": [
    "# faiss_res = faiss.StandardGpuResources()\n",
    "wiki40b_passage_reps = np.memmap(\n",
    "            'wiki40b_passages_reps_32_l-8_h-768_b-512-512.dat',\n",
    "            dtype='float32', mode='r',\n",
    "            shape=(wiki40b_snippets.num_rows, 128)\n",
    ")\n",
    "\n",
    "# wiki40b_index_flat = faiss.IndexFlatIP(128)\n",
    "# wiki40b_gpu_index = faiss.index_cpu_to_gpu(faiss_res, 0, wiki40b_index_flat)\n",
    "# wiki40b_gpu_index.add(wiki40b_passage_reps)\n",
    "\n",
    "wiki40b_index_flat = faiss.IndexFlatIP(128)\n",
    "\n",
    "wiki40b_index_flat.add(wiki40b_passage_reps)"
   ]
  },
  {
   "cell_type": "code",
   "execution_count": 6,
   "id": "794c09ba",
   "metadata": {},
   "outputs": [
    {
     "name": "stderr",
     "output_type": "stream",
     "text": [
      "Truncation was not explicitly activated but `max_length` is provided a specific value, please use `truncation=True` to explicitly truncate examples to max length. Defaulting to 'longest_first' truncation strategy. If you encode pairs of sequences (GLUE-style) with the tokenizer you can select this strategy more precisely by providing a specific strategy to `truncation`.\n",
      "/usr/local/lib/python3.6/dist-packages/transformers/tokenization_utils_base.py:2190: FutureWarning:\n",
      "\n",
      "The `pad_to_max_length` argument is deprecated and will be removed in a future version, use `padding=True` or `padding='longest'` to pad to the longest sequence in the batch, or use `padding='max_length'` to pad to a max length. In this case, you can give a specific length with `max_length` (e.g. `max_length=45`) or leave max_length to None to pad to the maximal input size of the model (e.g. 512 for Bert).\n",
      "\n"
     ]
    },
    {
     "data": {
      "text/html": [
       "<style  type=\"text/css\" >\n",
       "#T_ef5b45c6_f65b_11eb_b310_0242ac140003row0_col0,#T_ef5b45c6_f65b_11eb_b310_0242ac140003row0_col1,#T_ef5b45c6_f65b_11eb_b310_0242ac140003row0_col2,#T_ef5b45c6_f65b_11eb_b310_0242ac140003row1_col0,#T_ef5b45c6_f65b_11eb_b310_0242ac140003row1_col1,#T_ef5b45c6_f65b_11eb_b310_0242ac140003row1_col2,#T_ef5b45c6_f65b_11eb_b310_0242ac140003row2_col0,#T_ef5b45c6_f65b_11eb_b310_0242ac140003row2_col1,#T_ef5b45c6_f65b_11eb_b310_0242ac140003row2_col2,#T_ef5b45c6_f65b_11eb_b310_0242ac140003row3_col0,#T_ef5b45c6_f65b_11eb_b310_0242ac140003row3_col1,#T_ef5b45c6_f65b_11eb_b310_0242ac140003row3_col2,#T_ef5b45c6_f65b_11eb_b310_0242ac140003row4_col0,#T_ef5b45c6_f65b_11eb_b310_0242ac140003row4_col1,#T_ef5b45c6_f65b_11eb_b310_0242ac140003row4_col2,#T_ef5b45c6_f65b_11eb_b310_0242ac140003row5_col0,#T_ef5b45c6_f65b_11eb_b310_0242ac140003row5_col1,#T_ef5b45c6_f65b_11eb_b310_0242ac140003row5_col2,#T_ef5b45c6_f65b_11eb_b310_0242ac140003row6_col0,#T_ef5b45c6_f65b_11eb_b310_0242ac140003row6_col1,#T_ef5b45c6_f65b_11eb_b310_0242ac140003row6_col2,#T_ef5b45c6_f65b_11eb_b310_0242ac140003row7_col0,#T_ef5b45c6_f65b_11eb_b310_0242ac140003row7_col1,#T_ef5b45c6_f65b_11eb_b310_0242ac140003row7_col2,#T_ef5b45c6_f65b_11eb_b310_0242ac140003row8_col0,#T_ef5b45c6_f65b_11eb_b310_0242ac140003row8_col1,#T_ef5b45c6_f65b_11eb_b310_0242ac140003row8_col2,#T_ef5b45c6_f65b_11eb_b310_0242ac140003row9_col0,#T_ef5b45c6_f65b_11eb_b310_0242ac140003row9_col1,#T_ef5b45c6_f65b_11eb_b310_0242ac140003row9_col2,#T_ef5b45c6_f65b_11eb_b310_0242ac140003row10_col0,#T_ef5b45c6_f65b_11eb_b310_0242ac140003row10_col1,#T_ef5b45c6_f65b_11eb_b310_0242ac140003row10_col2{\n",
       "            text-align:  left;\n",
       "        }</style><table id=\"T_ef5b45c6_f65b_11eb_b310_0242ac140003\" ><thead>    <tr>        <th class=\"blank level0\" ></th>        <th class=\"col_heading level0 col0\" >Article</th>        <th class=\"col_heading level0 col1\" >Sections</th>        <th class=\"col_heading level0 col2\" >Text</th>    </tr></thead><tbody>\n",
       "                <tr>\n",
       "                        <th id=\"T_ef5b45c6_f65b_11eb_b310_0242ac140003level0_row0\" class=\"row_heading level0 row0\" >0</th>\n",
       "                        <td id=\"T_ef5b45c6_f65b_11eb_b310_0242ac140003row0_col0\" class=\"data row0 col0\" >---</td>\n",
       "                        <td id=\"T_ef5b45c6_f65b_11eb_b310_0242ac140003row0_col1\" class=\"data row0 col1\" >---</td>\n",
       "                        <td id=\"T_ef5b45c6_f65b_11eb_b310_0242ac140003row0_col2\" class=\"data row0 col2\" >--- What is stopping us from covering large sections of the desert with solar panels?</td>\n",
       "            </tr>\n",
       "            <tr>\n",
       "                        <th id=\"T_ef5b45c6_f65b_11eb_b310_0242ac140003level0_row1\" class=\"row_heading level0 row1\" >1</th>\n",
       "                        <td id=\"T_ef5b45c6_f65b_11eb_b310_0242ac140003row1_col0\" class=\"data row1 col0\" >Renewable energy in the United States</td>\n",
       "                        <td id=\"T_ef5b45c6_f65b_11eb_b310_0242ac140003row1_col1\" class=\"data row1 col1\" >Concentrated solar power</td>\n",
       "                        <td id=\"T_ef5b45c6_f65b_11eb_b310_0242ac140003row1_col2\" class=\"data row1 col2\" >disturb an average of 2.7 to 2.9 acres per gigawatt-hour/year, and use from 3.5 to 3.8 acres per gW-hr/year for the entire sites. \n",
       "According to a 2009 study, this intensity of land use is less than that of the country's average power plant using surface-mined coal. Some of the land in the eastern portion of the Mojave Desert is to be preserved, but the solar industry is more interested in areas of the western desert, \"where the sun burns hotter and there is easier access to transmission lines\".\n",
       "Some of the largest solar thermal power plants in the United States are</td>\n",
       "            </tr>\n",
       "            <tr>\n",
       "                        <th id=\"T_ef5b45c6_f65b_11eb_b310_0242ac140003level0_row2\" class=\"row_heading level0 row2\" >2</th>\n",
       "                        <td id=\"T_ef5b45c6_f65b_11eb_b310_0242ac140003row2_col0\" class=\"data row2 col0\" >Solar power plants in the Mojave Desert</td>\n",
       "                        <td id=\"T_ef5b45c6_f65b_11eb_b310_0242ac140003row2_col1\" class=\"data row2 col1\" >Land use issues & Water use issues</td>\n",
       "                        <td id=\"T_ef5b45c6_f65b_11eb_b310_0242ac140003row2_col2\" class=\"data row2 col2\" >acres of offshore exploration in the Gulf of Mexico are under lease for oil and gas development, exploration and production.\n",
       "Some of the land in the eastern Mojave Desert will be preserved, but the solar industry is mainly interested in areas of the western desert, \"where the sun burns hotter and there is easier access to transmission lines\", said Kenn J. Arnecke of FPL Energy, a view shared by many industry executives. Water use issues Concentrating solar plants in the Mojave Desert have brought up issues of water use, because concentrating solar power plants with wet-cooling systems have high water-consumption intensities</td>\n",
       "            </tr>\n",
       "            <tr>\n",
       "                        <th id=\"T_ef5b45c6_f65b_11eb_b310_0242ac140003level0_row3\" class=\"row_heading level0 row3\" >3</th>\n",
       "                        <td id=\"T_ef5b45c6_f65b_11eb_b310_0242ac140003row3_col0\" class=\"data row3 col0\" >Masdar City</td>\n",
       "                        <td id=\"T_ef5b45c6_f65b_11eb_b310_0242ac140003row3_col1\" class=\"data row3 col1\" >Renewable resources</td>\n",
       "                        <td id=\"T_ef5b45c6_f65b_11eb_b310_0242ac140003row3_col2\" class=\"data row3 col2\" >scale. Then you realise it's much more efficient to build your solar field on the ground in the middle of the desert. You can send a man to brush them off every day, rather than having to access everyone's buildings individually, and you can make sure that they are running at their absolute peak. It's much better than putting them on every building in the city.\"\n",
       "Blowing sand has been a problem for its solar panels, so Masdar has been working with other companies to engineer surfaces with pores smaller than sand particles to stop them from sticking on the panels.</td>\n",
       "            </tr>\n",
       "            <tr>\n",
       "                        <th id=\"T_ef5b45c6_f65b_11eb_b310_0242ac140003level0_row4\" class=\"row_heading level0 row4\" >4</th>\n",
       "                        <td id=\"T_ef5b45c6_f65b_11eb_b310_0242ac140003row4_col0\" class=\"data row4 col0\" >Renewable energy debate</td>\n",
       "                        <td id=\"T_ef5b45c6_f65b_11eb_b310_0242ac140003row4_col1\" class=\"data row4 col1\" >Solar power</td>\n",
       "                        <td id=\"T_ef5b45c6_f65b_11eb_b310_0242ac140003row4_col2\" class=\"data row4 col2\" >were built, they would total 7,387 megawatts. The requirement for so much land has spurred efforts to encourage solar facilities to be built on already-disturbed lands, and the Department of Interior identified Solar Energy Zones that it judges to contain lower value habitat where solar development would have less of an impact on ecosystems.  Sensitive wildlife impacted by large solar facility plans include the desert tortoise, Mohave Ground Squirrel, Mojave fringe-toed lizard, and desert bighorn sheep.\n",
       "In the United States, some of the land in the eastern portion of the Mojave Desert is to be preserved, but the solar industry</td>\n",
       "            </tr>\n",
       "            <tr>\n",
       "                        <th id=\"T_ef5b45c6_f65b_11eb_b310_0242ac140003level0_row5\" class=\"row_heading level0 row5\" >5</th>\n",
       "                        <td id=\"T_ef5b45c6_f65b_11eb_b310_0242ac140003row5_col0\" class=\"data row5 col0\" >Energy in Jordan</td>\n",
       "                        <td id=\"T_ef5b45c6_f65b_11eb_b310_0242ac140003row5_col1\" class=\"data row5 col1\" >Solar</td>\n",
       "                        <td id=\"T_ef5b45c6_f65b_11eb_b310_0242ac140003row5_col2\" class=\"data row5 col2\" >per kWh tendered in early 2015 for the second phase of the  Mohammed bin Rashid Al Maktoum Solar Park in the United Arab Emirates.\n",
       "A plan to put solar panels at all 6000 mosques in the country was announced in February 2015.\n",
       "Jordan inaugurated its first solar-powered charging station for electric cars in February 2012. Located at El Hassan Science City (EHSC), the station is considered the first step towards promoting solar-powered vehicles and building more solar-charging facilities on the streets of Jordan.\n",
       "The Sahara Forest Project, a Norwegian endeavour to create oases in hot, arid and uninhabited lands, is currently being</td>\n",
       "            </tr>\n",
       "            <tr>\n",
       "                        <th id=\"T_ef5b45c6_f65b_11eb_b310_0242ac140003level0_row6\" class=\"row_heading level0 row6\" >6</th>\n",
       "                        <td id=\"T_ef5b45c6_f65b_11eb_b310_0242ac140003row6_col0\" class=\"data row6 col0\" >Solar power in the United Arab Emirates</td>\n",
       "                        <td id=\"T_ef5b45c6_f65b_11eb_b310_0242ac140003row6_col1\" class=\"data row6 col1\" >Abu Dhabi & Dubai</td>\n",
       "                        <td id=\"T_ef5b45c6_f65b_11eb_b310_0242ac140003row6_col2\" class=\"data row6 col2\" >all rooftop panels, it was found easier to clean the sand off ground mounted panels at a single location. Dubai The Dubai Clean Energy Strategy aims to provide 7 per cent of Dubai’s energy from clean energy sources by 2020. It will increase this target to 25 per cent by 2030 and 75 per cent by 2050.  Due to a variety of factors, a Saudi-backed consortium had a low bid to build the solar farm in Dubai for only 3¢/kWh.\n",
       "The first phase of the proposed 1,000 MW Mohammed bin Rashid Al Maktoum Solar Park, in Seih Al-Dahal, about 50 kilometers</td>\n",
       "            </tr>\n",
       "            <tr>\n",
       "                        <th id=\"T_ef5b45c6_f65b_11eb_b310_0242ac140003level0_row7\" class=\"row_heading level0 row7\" >7</th>\n",
       "                        <td id=\"T_ef5b45c6_f65b_11eb_b310_0242ac140003row7_col0\" class=\"data row7 col0\" >Desert</td>\n",
       "                        <td id=\"T_ef5b45c6_f65b_11eb_b310_0242ac140003row7_col1\" class=\"data row7 col1\" >Solar energy capture</td>\n",
       "                        <td id=\"T_ef5b45c6_f65b_11eb_b310_0242ac140003row7_col2\" class=\"data row7 col2\" >for solar energy, partly due to low amounts of cloud cover. Many solar power plants have been built in the Mojave Desert such as the Solar Energy Generating Systems and Ivanpah Solar Power Facility. Large swaths of this desert are covered in mirrors.\n",
       "The potential for generating solar energy from the Sahara Desert is huge, the highest found on the globe. Professor David Faiman of Ben-Gurion University has stated that the technology now exists to supply all of the world's electricity needs from 10% of the Sahara Desert. Desertec Industrial Initiative was a consortium seeking $560 billion to invest in North</td>\n",
       "            </tr>\n",
       "            <tr>\n",
       "                        <th id=\"T_ef5b45c6_f65b_11eb_b310_0242ac140003level0_row8\" class=\"row_heading level0 row8\" >8</th>\n",
       "                        <td id=\"T_ef5b45c6_f65b_11eb_b310_0242ac140003row8_col0\" class=\"data row8 col0\" >Renewable energy in Pakistan</td>\n",
       "                        <td id=\"T_ef5b45c6_f65b_11eb_b310_0242ac140003row8_col1\" class=\"data row8 col1\" >Solar power</td>\n",
       "                        <td id=\"T_ef5b45c6_f65b_11eb_b310_0242ac140003row8_col2\" class=\"data row8 col2\" >district) (now that system is unserviceable) and Dittal Khan Laghari, Digri (Mirpurkhas district).The Punjab government announced the establishment of Quaid-e-Azam Solar Park over an area of 5,000 acres in the Cholistan Development Authority in Bahawalpur.\n",
       "A practical example of the use of solar energy can be seen in some rural villages of Pakistan where houses have been provided with solar panels that run electric fans and energy-saving bulbs. One notable and successfully implemented case was the village of Narian Khorian (about 50 kilometers from Islamabad), which employs the use of 100 solar panels installed by a local firm, free of cost;</td>\n",
       "            </tr>\n",
       "            <tr>\n",
       "                        <th id=\"T_ef5b45c6_f65b_11eb_b310_0242ac140003level0_row9\" class=\"row_heading level0 row9\" >9</th>\n",
       "                        <td id=\"T_ef5b45c6_f65b_11eb_b310_0242ac140003row9_col0\" class=\"data row9 col0\" >Concentrated solar power</td>\n",
       "                        <td id=\"T_ef5b45c6_f65b_11eb_b310_0242ac140003row9_col1\" class=\"data row9 col1\" >Very large scale solar power plants & Suitable sites</td>\n",
       "                        <td id=\"T_ef5b45c6_f65b_11eb_b310_0242ac140003row9_col2\" class=\"data row9 col2\" >solar power plants using 1% of each of the world's deserts. Total consumption worldwide was 15,223 TWh/year (in 2003). The gigawatt size projects would have been arrays of standard-sized single plants. In 2012, the BLM made available 97,921,069 acres (39,627,251 hectares) of land in the southwestern United States for solar projects, enough for between 10,000 and 20,000 GW. The largest single plant in operation is the 510 MW Noor Solar Power Station. Suitable sites The locations with highest direct irradiance are dry, at high altitude, and located in the tropics. These locations have a higher potential for CSP than areas with less sun.\n",
       "Abandoned</td>\n",
       "            </tr>\n",
       "            <tr>\n",
       "                        <th id=\"T_ef5b45c6_f65b_11eb_b310_0242ac140003level0_row10\" class=\"row_heading level0 row10\" >10</th>\n",
       "                        <td id=\"T_ef5b45c6_f65b_11eb_b310_0242ac140003row10_col0\" class=\"data row10 col0\" >Net metering</td>\n",
       "                        <td id=\"T_ef5b45c6_f65b_11eb_b310_0242ac140003row10_col1\" class=\"data row10 col1\" >Related technology & Solar Guerrilla</td>\n",
       "                        <td id=\"T_ef5b45c6_f65b_11eb_b310_0242ac140003row10_col2\" class=\"data row10 col2\" >safe. Solar Guerrilla Solar Guerrilla (or the guerrilla solar movement) is a term originated by Home Power Magazine and is applied to someone who connects solar panels without permission or notification and uses monthly net metering without regard for law.</td>\n",
       "            </tr>\n",
       "    </tbody></table>"
      ],
      "text/plain": [
       "<pandas.io.formats.style.Styler at 0x7fe71b02ef28>"
      ]
     },
     "execution_count": 6,
     "metadata": {},
     "output_type": "execute_result"
    }
   ],
   "source": [
    "question = eli5['test_eli5'][12342]['title']\n",
    "doc, res_list = query_qa_dense_index(question, qar_model, qar_tokenizer, wiki40b_snippets, wiki40b_index_flat, device='cuda:0')\n",
    "\n",
    "df = pd.DataFrame({\n",
    "    'Article': ['---'] + [res['article_title'] for res in res_list],\n",
    "    'Sections': ['---'] + [res['section_title'] if res['section_title'].strip() != '' else res['article_title']\n",
    "                 for res in res_list],\n",
    "    'Text': ['--- ' + question] + [res['passage_text'] for res in res_list],\n",
    "})\n",
    "df.style.set_properties(**{'text-align': 'left'})"
   ]
  },
  {
   "cell_type": "code",
   "execution_count": 7,
   "id": "601453ae",
   "metadata": {
    "scrolled": true
   },
   "outputs": [
    {
     "data": {
      "text/plain": [
       "[[{'_id': '{\"datasets_id\": 5770, \"wiki_id\": \"Q3246573\", \"sp\": 14, \"sc\": 1444, \"ep\": 14, \"ec\": 2032}',\n",
       "   'datasets_id': 5770,\n",
       "   'wiki_id': 'Q3246573',\n",
       "   'start_paragraph': 14,\n",
       "   'start_character': 1444,\n",
       "   'end_paragraph': 14,\n",
       "   'end_character': 2032,\n",
       "   'article_title': 'Renewable energy in the United States',\n",
       "   'section_title': 'Concentrated solar power',\n",
       "   'passage_text': 'disturb an average of 2.7 to 2.9 acres per gigawatt-hour/year, and use from 3.5 to 3.8 acres per gW-hr/year for the entire sites. \\nAccording to a 2009 study, this intensity of land use is less than that of the country\\'s average power plant using surface-mined coal. Some of the land in the eastern portion of the Mojave Desert is to be preserved, but the solar industry is more interested in areas of the western desert, \"where the sun burns hotter and there is easier access to transmission lines\".\\nSome of the largest solar thermal power plants in the United States are'},\n",
       "  {'_id': '{\"datasets_id\": 88543, \"wiki_id\": \"Q154700\", \"sp\": 48, \"sc\": 1354, \"ep\": 52, \"ec\": 190}',\n",
       "   'datasets_id': 88543,\n",
       "   'wiki_id': 'Q154700',\n",
       "   'start_paragraph': 48,\n",
       "   'start_character': 1354,\n",
       "   'end_paragraph': 52,\n",
       "   'end_character': 190,\n",
       "   'article_title': 'Solar power plants in the Mojave Desert',\n",
       "   'section_title': 'Land use issues & Water use issues',\n",
       "   'passage_text': 'acres of offshore exploration in the Gulf of Mexico are under lease for oil and gas development, exploration and production.\\nSome of the land in the eastern Mojave Desert will be preserved, but the solar industry is mainly interested in areas of the western desert, \"where the sun burns hotter and there is easier access to transmission lines\", said Kenn J. Arnecke of FPL Energy, a view shared by many industry executives. Water use issues Concentrating solar plants in the Mojave Desert have brought up issues of water use, because concentrating solar power plants with wet-cooling systems have high water-consumption intensities'},\n",
       "  {'_id': '{\"datasets_id\": 1549300, \"wiki_id\": \"Q934481\", \"sp\": 38, \"sc\": 819, \"ep\": 38, \"ec\": 1396}',\n",
       "   'datasets_id': 1549300,\n",
       "   'wiki_id': 'Q934481',\n",
       "   'start_paragraph': 38,\n",
       "   'start_character': 819,\n",
       "   'end_paragraph': 38,\n",
       "   'end_character': 1396,\n",
       "   'article_title': 'Masdar City',\n",
       "   'section_title': 'Renewable resources',\n",
       "   'passage_text': 'scale. Then you realise it\\'s much more efficient to build your solar field on the ground in the middle of the desert. You can send a man to brush them off every day, rather than having to access everyone\\'s buildings individually, and you can make sure that they are running at their absolute peak. It\\'s much better than putting them on every building in the city.\"\\nBlowing sand has been a problem for its solar panels, so Masdar has been working with other companies to engineer surfaces with pores smaller than sand particles to stop them from sticking on the panels.'},\n",
       "  {'_id': '{\"datasets_id\": 917475, \"wiki_id\": \"Q7313093\", \"sp\": 28, \"sc\": 2620, \"ep\": 28, \"ec\": 3263}',\n",
       "   'datasets_id': 917475,\n",
       "   'wiki_id': 'Q7313093',\n",
       "   'start_paragraph': 28,\n",
       "   'start_character': 2620,\n",
       "   'end_paragraph': 28,\n",
       "   'end_character': 3263,\n",
       "   'article_title': 'Renewable energy debate',\n",
       "   'section_title': 'Solar power',\n",
       "   'passage_text': 'were built, they would total 7,387 megawatts. The requirement for so much land has spurred efforts to encourage solar facilities to be built on already-disturbed lands, and the Department of Interior identified Solar Energy Zones that it judges to contain lower value habitat where solar development would have less of an impact on ecosystems.  Sensitive wildlife impacted by large solar facility plans include the desert tortoise, Mohave Ground Squirrel, Mojave fringe-toed lizard, and desert bighorn sheep.\\nIn the United States, some of the land in the eastern portion of the Mojave Desert is to be preserved, but the solar industry'},\n",
       "  {'_id': '{\"datasets_id\": 1851354, \"wiki_id\": \"Q5377110\", \"sp\": 18, \"sc\": 1840, \"ep\": 18, \"ec\": 2499}',\n",
       "   'datasets_id': 1851354,\n",
       "   'wiki_id': 'Q5377110',\n",
       "   'start_paragraph': 18,\n",
       "   'start_character': 1840,\n",
       "   'end_paragraph': 18,\n",
       "   'end_character': 2499,\n",
       "   'article_title': 'Energy in Jordan',\n",
       "   'section_title': 'Solar',\n",
       "   'passage_text': 'per kWh tendered in early 2015 for the second phase of the  Mohammed bin Rashid Al Maktoum Solar Park in the United Arab Emirates.\\nA plan to put solar panels at all 6000 mosques in the country was announced in February 2015.\\nJordan inaugurated its first solar-powered charging station for electric cars in February 2012. Located at El Hassan Science City (EHSC), the station is considered the first step towards promoting solar-powered vehicles and building more solar-charging facilities on the streets of Jordan.\\nThe Sahara Forest Project, a Norwegian endeavour to create oases in hot, arid and uninhabited lands, is currently being'},\n",
       "  {'_id': '{\"datasets_id\": 1650604, \"wiki_id\": \"Q25108518\", \"sp\": 8, \"sc\": 529, \"ep\": 12, \"ec\": 438}',\n",
       "   'datasets_id': 1650604,\n",
       "   'wiki_id': 'Q25108518',\n",
       "   'start_paragraph': 8,\n",
       "   'start_character': 529,\n",
       "   'end_paragraph': 12,\n",
       "   'end_character': 438,\n",
       "   'article_title': 'Solar power in the United Arab Emirates',\n",
       "   'section_title': 'Abu Dhabi & Dubai',\n",
       "   'passage_text': 'all rooftop panels, it was found easier to clean the sand off ground mounted panels at a single location. Dubai The Dubai Clean Energy Strategy aims to provide 7 per cent of Dubai’s energy from clean energy sources by 2020. It will increase this target to 25 per cent by 2030 and 75 per cent by 2050.  Due to a variety of factors, a Saudi-backed consortium had a low bid to build the solar farm in Dubai for only 3¢/kWh.\\nThe first phase of the proposed 1,000\\xa0MW Mohammed bin Rashid Al Maktoum Solar Park, in Seih Al-Dahal, about 50 kilometers'},\n",
       "  {'_id': '{\"datasets_id\": 118014, \"wiki_id\": \"Q8514\", \"sp\": 60, \"sc\": 40, \"ep\": 60, \"ec\": 661}',\n",
       "   'datasets_id': 118014,\n",
       "   'wiki_id': 'Q8514',\n",
       "   'start_paragraph': 60,\n",
       "   'start_character': 40,\n",
       "   'end_paragraph': 60,\n",
       "   'end_character': 661,\n",
       "   'article_title': 'Desert',\n",
       "   'section_title': 'Solar energy capture',\n",
       "   'passage_text': \"for solar energy, partly due to low amounts of cloud cover. Many solar power plants have been built in the Mojave Desert such as the Solar Energy Generating Systems and Ivanpah Solar Power Facility. Large swaths of this desert are covered in mirrors.\\nThe potential for generating solar energy from the Sahara Desert is huge, the highest found on the globe. Professor David Faiman of Ben-Gurion University has stated that the technology now exists to supply all of the world's electricity needs from 10% of the Sahara Desert. Desertec Industrial Initiative was a consortium seeking $560 billion to invest in North\"},\n",
       "  {'_id': '{\"datasets_id\": 1427248, \"wiki_id\": \"Q7313109\", \"sp\": 6, \"sc\": 612, \"ep\": 6, \"ec\": 1270}',\n",
       "   'datasets_id': 1427248,\n",
       "   'wiki_id': 'Q7313109',\n",
       "   'start_paragraph': 6,\n",
       "   'start_character': 612,\n",
       "   'end_paragraph': 6,\n",
       "   'end_character': 1270,\n",
       "   'article_title': 'Renewable energy in Pakistan',\n",
       "   'section_title': 'Solar power',\n",
       "   'passage_text': 'district) (now that system is unserviceable) and Dittal Khan Laghari, Digri (Mirpurkhas district).The Punjab government announced the establishment of Quaid-e-Azam Solar Park over an area of 5,000 acres in the Cholistan Development Authority in Bahawalpur.\\nA practical example of the use of solar energy can be seen in some rural villages of Pakistan where houses have been provided with solar panels that run electric fans and energy-saving bulbs. One notable and successfully implemented case was the village of Narian Khorian (about 50 kilometers from Islamabad), which employs the use of 100 solar panels installed by a local firm, free of cost;'},\n",
       "  {'_id': '{\"datasets_id\": 990558, \"wiki_id\": \"Q285927\", \"sp\": 60, \"sc\": 299, \"ep\": 64, \"ec\": 191}',\n",
       "   'datasets_id': 990558,\n",
       "   'wiki_id': 'Q285927',\n",
       "   'start_paragraph': 60,\n",
       "   'start_character': 299,\n",
       "   'end_paragraph': 64,\n",
       "   'end_character': 191,\n",
       "   'article_title': 'Concentrated solar power',\n",
       "   'section_title': 'Very large scale solar power plants & Suitable sites',\n",
       "   'passage_text': \"solar power plants using 1% of each of the world's deserts. Total consumption worldwide was 15,223\\xa0TWh/year (in 2003). The gigawatt size projects would have been arrays of standard-sized single plants. In 2012, the BLM made available 97,921,069 acres (39,627,251 hectares) of land in the southwestern United States for solar projects, enough for between 10,000 and 20,000\\xa0GW. The largest single plant in operation is the 510\\xa0MW Noor Solar Power Station. Suitable sites The locations with highest direct irradiance are dry, at high altitude, and located in the tropics. These locations have a higher potential for CSP than areas with less sun.\\nAbandoned\"},\n",
       "  {'_id': '{\"datasets_id\": 2508984, \"wiki_id\": \"Q2685471\", \"sp\": 158, \"sc\": 923, \"ep\": 162, \"ec\": 234}',\n",
       "   'datasets_id': 2508984,\n",
       "   'wiki_id': 'Q2685471',\n",
       "   'start_paragraph': 158,\n",
       "   'start_character': 923,\n",
       "   'end_paragraph': 162,\n",
       "   'end_character': 234,\n",
       "   'article_title': 'Net metering',\n",
       "   'section_title': 'Related technology & Solar Guerrilla',\n",
       "   'passage_text': 'safe. Solar Guerrilla Solar Guerrilla (or the guerrilla solar movement) is a term originated by Home Power Magazine and is applied to someone who connects solar panels without permission or notification and uses monthly net metering without regard for law.'}]]"
      ]
     },
     "execution_count": 7,
     "metadata": {},
     "output_type": "execute_result"
    }
   ],
   "source": [
    "q_rep = embed_questions_for_retrieval([question], qar_tokenizer, qar_model)\n",
    "D, I = wiki40b_index_flat.search(q_rep, 10)\n",
    "res_passages_lst = [[wiki40b_snippets[int(i)] for i in i_lst] for i_lst in I]\n",
    "\n",
    "res_passages_lst"
   ]
  },
  {
   "cell_type": "code",
   "execution_count": 8,
   "id": "5a936e8e",
   "metadata": {},
   "outputs": [
    {
     "data": {
      "text/plain": [
       "{'_id': '{\"datasets_id\": 5770, \"wiki_id\": \"Q3246573\", \"sp\": 14, \"sc\": 1444, \"ep\": 14, \"ec\": 2032}',\n",
       " 'datasets_id': 5770,\n",
       " 'wiki_id': 'Q3246573',\n",
       " 'start_paragraph': 14,\n",
       " 'start_character': 1444,\n",
       " 'end_paragraph': 14,\n",
       " 'end_character': 2032,\n",
       " 'article_title': 'Renewable energy in the United States',\n",
       " 'section_title': 'Concentrated solar power',\n",
       " 'passage_text': 'disturb an average of 2.7 to 2.9 acres per gigawatt-hour/year, and use from 3.5 to 3.8 acres per gW-hr/year for the entire sites. \\nAccording to a 2009 study, this intensity of land use is less than that of the country\\'s average power plant using surface-mined coal. Some of the land in the eastern portion of the Mojave Desert is to be preserved, but the solar industry is more interested in areas of the western desert, \"where the sun burns hotter and there is easier access to transmission lines\".\\nSome of the largest solar thermal power plants in the United States are'}"
      ]
     },
     "execution_count": 8,
     "metadata": {},
     "output_type": "execute_result"
    }
   ],
   "source": [
    "res_passages_lst[0][0]"
   ]
  },
  {
   "cell_type": "code",
   "execution_count": 10,
   "id": "c12825a9",
   "metadata": {
    "scrolled": false
   },
   "outputs": [
    {
     "data": {
      "text/html": [
       "<style  type=\"text/css\" >\n",
       "#T_1e4a8824_f65c_11eb_b310_0242ac140003row0_col0,#T_1e4a8824_f65c_11eb_b310_0242ac140003row0_col1,#T_1e4a8824_f65c_11eb_b310_0242ac140003row0_col2,#T_1e4a8824_f65c_11eb_b310_0242ac140003row0_col3,#T_1e4a8824_f65c_11eb_b310_0242ac140003row1_col0,#T_1e4a8824_f65c_11eb_b310_0242ac140003row1_col1,#T_1e4a8824_f65c_11eb_b310_0242ac140003row1_col2,#T_1e4a8824_f65c_11eb_b310_0242ac140003row1_col3,#T_1e4a8824_f65c_11eb_b310_0242ac140003row2_col0,#T_1e4a8824_f65c_11eb_b310_0242ac140003row2_col1,#T_1e4a8824_f65c_11eb_b310_0242ac140003row2_col2,#T_1e4a8824_f65c_11eb_b310_0242ac140003row2_col3,#T_1e4a8824_f65c_11eb_b310_0242ac140003row3_col0,#T_1e4a8824_f65c_11eb_b310_0242ac140003row3_col1,#T_1e4a8824_f65c_11eb_b310_0242ac140003row3_col2,#T_1e4a8824_f65c_11eb_b310_0242ac140003row3_col3,#T_1e4a8824_f65c_11eb_b310_0242ac140003row4_col0,#T_1e4a8824_f65c_11eb_b310_0242ac140003row4_col1,#T_1e4a8824_f65c_11eb_b310_0242ac140003row4_col2,#T_1e4a8824_f65c_11eb_b310_0242ac140003row4_col3,#T_1e4a8824_f65c_11eb_b310_0242ac140003row5_col0,#T_1e4a8824_f65c_11eb_b310_0242ac140003row5_col1,#T_1e4a8824_f65c_11eb_b310_0242ac140003row5_col2,#T_1e4a8824_f65c_11eb_b310_0242ac140003row5_col3,#T_1e4a8824_f65c_11eb_b310_0242ac140003row6_col0,#T_1e4a8824_f65c_11eb_b310_0242ac140003row6_col1,#T_1e4a8824_f65c_11eb_b310_0242ac140003row6_col2,#T_1e4a8824_f65c_11eb_b310_0242ac140003row6_col3,#T_1e4a8824_f65c_11eb_b310_0242ac140003row7_col0,#T_1e4a8824_f65c_11eb_b310_0242ac140003row7_col1,#T_1e4a8824_f65c_11eb_b310_0242ac140003row7_col2,#T_1e4a8824_f65c_11eb_b310_0242ac140003row7_col3,#T_1e4a8824_f65c_11eb_b310_0242ac140003row8_col0,#T_1e4a8824_f65c_11eb_b310_0242ac140003row8_col1,#T_1e4a8824_f65c_11eb_b310_0242ac140003row8_col2,#T_1e4a8824_f65c_11eb_b310_0242ac140003row8_col3,#T_1e4a8824_f65c_11eb_b310_0242ac140003row9_col0,#T_1e4a8824_f65c_11eb_b310_0242ac140003row9_col1,#T_1e4a8824_f65c_11eb_b310_0242ac140003row9_col2,#T_1e4a8824_f65c_11eb_b310_0242ac140003row9_col3{\n",
       "            text-align:  left;\n",
       "        }</style><table id=\"T_1e4a8824_f65c_11eb_b310_0242ac140003\" ><thead>    <tr>        <th class=\"blank level0\" ></th>        <th class=\"col_heading level0 col0\" >Article</th>        <th class=\"col_heading level0 col1\" >Sections</th>        <th class=\"col_heading level0 col2\" >Text</th>        <th class=\"col_heading level0 col3\" >Score</th>    </tr></thead><tbody>\n",
       "                <tr>\n",
       "                        <th id=\"T_1e4a8824_f65c_11eb_b310_0242ac140003level0_row0\" class=\"row_heading level0 row0\" >0</th>\n",
       "                        <td id=\"T_1e4a8824_f65c_11eb_b310_0242ac140003row0_col0\" class=\"data row0 col0\" >Renewable energy in the United States</td>\n",
       "                        <td id=\"T_1e4a8824_f65c_11eb_b310_0242ac140003row0_col1\" class=\"data row0 col1\" >Concentrated solar power</td>\n",
       "                        <td id=\"T_1e4a8824_f65c_11eb_b310_0242ac140003row0_col2\" class=\"data row0 col2\" >disturb an average of 2.7 to 2.9 acres per gigawatt-hour/year, and use from 3.5 to 3.8 acres per gW-hr/year for the entire sites. \n",
       "According to a 2009 study, this intensity of land use is less than that of the country's average power plant using surface-mined coal. Some of the land in the eastern portion of the Mojave Desert is to be preserved, but the solar industry is more interested in areas of the western desert, \"where the sun burns hotter and there is easier access to transmission lines\".\n",
       "Some of the largest solar thermal power plants in the United States are</td>\n",
       "                        <td id=\"T_1e4a8824_f65c_11eb_b310_0242ac140003row0_col3\" class=\"data row0 col3\" >24.659550</td>\n",
       "            </tr>\n",
       "            <tr>\n",
       "                        <th id=\"T_1e4a8824_f65c_11eb_b310_0242ac140003level0_row1\" class=\"row_heading level0 row1\" >1</th>\n",
       "                        <td id=\"T_1e4a8824_f65c_11eb_b310_0242ac140003row1_col0\" class=\"data row1 col0\" >Solar power plants in the Mojave Desert</td>\n",
       "                        <td id=\"T_1e4a8824_f65c_11eb_b310_0242ac140003row1_col1\" class=\"data row1 col1\" >Land use issues & Water use issues</td>\n",
       "                        <td id=\"T_1e4a8824_f65c_11eb_b310_0242ac140003row1_col2\" class=\"data row1 col2\" >acres of offshore exploration in the Gulf of Mexico are under lease for oil and gas development, exploration and production.\n",
       "Some of the land in the eastern Mojave Desert will be preserved, but the solar industry is mainly interested in areas of the western desert, \"where the sun burns hotter and there is easier access to transmission lines\", said Kenn J. Arnecke of FPL Energy, a view shared by many industry executives. Water use issues Concentrating solar plants in the Mojave Desert have brought up issues of water use, because concentrating solar power plants with wet-cooling systems have high water-consumption intensities</td>\n",
       "                        <td id=\"T_1e4a8824_f65c_11eb_b310_0242ac140003row1_col3\" class=\"data row1 col3\" >24.249338</td>\n",
       "            </tr>\n",
       "            <tr>\n",
       "                        <th id=\"T_1e4a8824_f65c_11eb_b310_0242ac140003level0_row2\" class=\"row_heading level0 row2\" >2</th>\n",
       "                        <td id=\"T_1e4a8824_f65c_11eb_b310_0242ac140003row2_col0\" class=\"data row2 col0\" >Masdar City</td>\n",
       "                        <td id=\"T_1e4a8824_f65c_11eb_b310_0242ac140003row2_col1\" class=\"data row2 col1\" >Renewable resources</td>\n",
       "                        <td id=\"T_1e4a8824_f65c_11eb_b310_0242ac140003row2_col2\" class=\"data row2 col2\" >scale. Then you realise it's much more efficient to build your solar field on the ground in the middle of the desert. You can send a man to brush them off every day, rather than having to access everyone's buildings individually, and you can make sure that they are running at their absolute peak. It's much better than putting them on every building in the city.\"\n",
       "Blowing sand has been a problem for its solar panels, so Masdar has been working with other companies to engineer surfaces with pores smaller than sand particles to stop them from sticking on the panels.</td>\n",
       "                        <td id=\"T_1e4a8824_f65c_11eb_b310_0242ac140003row2_col3\" class=\"data row2 col3\" >24.224705</td>\n",
       "            </tr>\n",
       "            <tr>\n",
       "                        <th id=\"T_1e4a8824_f65c_11eb_b310_0242ac140003level0_row3\" class=\"row_heading level0 row3\" >3</th>\n",
       "                        <td id=\"T_1e4a8824_f65c_11eb_b310_0242ac140003row3_col0\" class=\"data row3 col0\" >Renewable energy debate</td>\n",
       "                        <td id=\"T_1e4a8824_f65c_11eb_b310_0242ac140003row3_col1\" class=\"data row3 col1\" >Solar power</td>\n",
       "                        <td id=\"T_1e4a8824_f65c_11eb_b310_0242ac140003row3_col2\" class=\"data row3 col2\" >were built, they would total 7,387 megawatts. The requirement for so much land has spurred efforts to encourage solar facilities to be built on already-disturbed lands, and the Department of Interior identified Solar Energy Zones that it judges to contain lower value habitat where solar development would have less of an impact on ecosystems.  Sensitive wildlife impacted by large solar facility plans include the desert tortoise, Mohave Ground Squirrel, Mojave fringe-toed lizard, and desert bighorn sheep.\n",
       "In the United States, some of the land in the eastern portion of the Mojave Desert is to be preserved, but the solar industry</td>\n",
       "                        <td id=\"T_1e4a8824_f65c_11eb_b310_0242ac140003row3_col3\" class=\"data row3 col3\" >24.219810</td>\n",
       "            </tr>\n",
       "            <tr>\n",
       "                        <th id=\"T_1e4a8824_f65c_11eb_b310_0242ac140003level0_row4\" class=\"row_heading level0 row4\" >4</th>\n",
       "                        <td id=\"T_1e4a8824_f65c_11eb_b310_0242ac140003row4_col0\" class=\"data row4 col0\" >Energy in Jordan</td>\n",
       "                        <td id=\"T_1e4a8824_f65c_11eb_b310_0242ac140003row4_col1\" class=\"data row4 col1\" >Solar</td>\n",
       "                        <td id=\"T_1e4a8824_f65c_11eb_b310_0242ac140003row4_col2\" class=\"data row4 col2\" >per kWh tendered in early 2015 for the second phase of the  Mohammed bin Rashid Al Maktoum Solar Park in the United Arab Emirates.\n",
       "A plan to put solar panels at all 6000 mosques in the country was announced in February 2015.\n",
       "Jordan inaugurated its first solar-powered charging station for electric cars in February 2012. Located at El Hassan Science City (EHSC), the station is considered the first step towards promoting solar-powered vehicles and building more solar-charging facilities on the streets of Jordan.\n",
       "The Sahara Forest Project, a Norwegian endeavour to create oases in hot, arid and uninhabited lands, is currently being</td>\n",
       "                        <td id=\"T_1e4a8824_f65c_11eb_b310_0242ac140003row4_col3\" class=\"data row4 col3\" >23.429373</td>\n",
       "            </tr>\n",
       "            <tr>\n",
       "                        <th id=\"T_1e4a8824_f65c_11eb_b310_0242ac140003level0_row5\" class=\"row_heading level0 row5\" >5</th>\n",
       "                        <td id=\"T_1e4a8824_f65c_11eb_b310_0242ac140003row5_col0\" class=\"data row5 col0\" >Solar power in the United Arab Emirates</td>\n",
       "                        <td id=\"T_1e4a8824_f65c_11eb_b310_0242ac140003row5_col1\" class=\"data row5 col1\" >Abu Dhabi & Dubai</td>\n",
       "                        <td id=\"T_1e4a8824_f65c_11eb_b310_0242ac140003row5_col2\" class=\"data row5 col2\" >all rooftop panels, it was found easier to clean the sand off ground mounted panels at a single location. Dubai The Dubai Clean Energy Strategy aims to provide 7 per cent of Dubai’s energy from clean energy sources by 2020. It will increase this target to 25 per cent by 2030 and 75 per cent by 2050.  Due to a variety of factors, a Saudi-backed consortium had a low bid to build the solar farm in Dubai for only 3¢/kWh.\n",
       "The first phase of the proposed 1,000 MW Mohammed bin Rashid Al Maktoum Solar Park, in Seih Al-Dahal, about 50 kilometers</td>\n",
       "                        <td id=\"T_1e4a8824_f65c_11eb_b310_0242ac140003row5_col3\" class=\"data row5 col3\" >23.358679</td>\n",
       "            </tr>\n",
       "            <tr>\n",
       "                        <th id=\"T_1e4a8824_f65c_11eb_b310_0242ac140003level0_row6\" class=\"row_heading level0 row6\" >6</th>\n",
       "                        <td id=\"T_1e4a8824_f65c_11eb_b310_0242ac140003row6_col0\" class=\"data row6 col0\" >Desert</td>\n",
       "                        <td id=\"T_1e4a8824_f65c_11eb_b310_0242ac140003row6_col1\" class=\"data row6 col1\" >Solar energy capture</td>\n",
       "                        <td id=\"T_1e4a8824_f65c_11eb_b310_0242ac140003row6_col2\" class=\"data row6 col2\" >for solar energy, partly due to low amounts of cloud cover. Many solar power plants have been built in the Mojave Desert such as the Solar Energy Generating Systems and Ivanpah Solar Power Facility. Large swaths of this desert are covered in mirrors.\n",
       "The potential for generating solar energy from the Sahara Desert is huge, the highest found on the globe. Professor David Faiman of Ben-Gurion University has stated that the technology now exists to supply all of the world's electricity needs from 10% of the Sahara Desert. Desertec Industrial Initiative was a consortium seeking $560 billion to invest in North</td>\n",
       "                        <td id=\"T_1e4a8824_f65c_11eb_b310_0242ac140003row6_col3\" class=\"data row6 col3\" >23.266350</td>\n",
       "            </tr>\n",
       "            <tr>\n",
       "                        <th id=\"T_1e4a8824_f65c_11eb_b310_0242ac140003level0_row7\" class=\"row_heading level0 row7\" >7</th>\n",
       "                        <td id=\"T_1e4a8824_f65c_11eb_b310_0242ac140003row7_col0\" class=\"data row7 col0\" >Renewable energy in Pakistan</td>\n",
       "                        <td id=\"T_1e4a8824_f65c_11eb_b310_0242ac140003row7_col1\" class=\"data row7 col1\" >Solar power</td>\n",
       "                        <td id=\"T_1e4a8824_f65c_11eb_b310_0242ac140003row7_col2\" class=\"data row7 col2\" >district) (now that system is unserviceable) and Dittal Khan Laghari, Digri (Mirpurkhas district).The Punjab government announced the establishment of Quaid-e-Azam Solar Park over an area of 5,000 acres in the Cholistan Development Authority in Bahawalpur.\n",
       "A practical example of the use of solar energy can be seen in some rural villages of Pakistan where houses have been provided with solar panels that run electric fans and energy-saving bulbs. One notable and successfully implemented case was the village of Narian Khorian (about 50 kilometers from Islamabad), which employs the use of 100 solar panels installed by a local firm, free of cost;</td>\n",
       "                        <td id=\"T_1e4a8824_f65c_11eb_b310_0242ac140003row7_col3\" class=\"data row7 col3\" >23.240244</td>\n",
       "            </tr>\n",
       "            <tr>\n",
       "                        <th id=\"T_1e4a8824_f65c_11eb_b310_0242ac140003level0_row8\" class=\"row_heading level0 row8\" >8</th>\n",
       "                        <td id=\"T_1e4a8824_f65c_11eb_b310_0242ac140003row8_col0\" class=\"data row8 col0\" >Concentrated solar power</td>\n",
       "                        <td id=\"T_1e4a8824_f65c_11eb_b310_0242ac140003row8_col1\" class=\"data row8 col1\" >Very large scale solar power plants & Suitable sites</td>\n",
       "                        <td id=\"T_1e4a8824_f65c_11eb_b310_0242ac140003row8_col2\" class=\"data row8 col2\" >solar power plants using 1% of each of the world's deserts. Total consumption worldwide was 15,223 TWh/year (in 2003). The gigawatt size projects would have been arrays of standard-sized single plants. In 2012, the BLM made available 97,921,069 acres (39,627,251 hectares) of land in the southwestern United States for solar projects, enough for between 10,000 and 20,000 GW. The largest single plant in operation is the 510 MW Noor Solar Power Station. Suitable sites The locations with highest direct irradiance are dry, at high altitude, and located in the tropics. These locations have a higher potential for CSP than areas with less sun.\n",
       "Abandoned</td>\n",
       "                        <td id=\"T_1e4a8824_f65c_11eb_b310_0242ac140003row8_col3\" class=\"data row8 col3\" >23.155958</td>\n",
       "            </tr>\n",
       "            <tr>\n",
       "                        <th id=\"T_1e4a8824_f65c_11eb_b310_0242ac140003level0_row9\" class=\"row_heading level0 row9\" >9</th>\n",
       "                        <td id=\"T_1e4a8824_f65c_11eb_b310_0242ac140003row9_col0\" class=\"data row9 col0\" >Net metering</td>\n",
       "                        <td id=\"T_1e4a8824_f65c_11eb_b310_0242ac140003row9_col1\" class=\"data row9 col1\" >Related technology & Solar Guerrilla</td>\n",
       "                        <td id=\"T_1e4a8824_f65c_11eb_b310_0242ac140003row9_col2\" class=\"data row9 col2\" >safe. Solar Guerrilla Solar Guerrilla (or the guerrilla solar movement) is a term originated by Home Power Magazine and is applied to someone who connects solar panels without permission or notification and uses monthly net metering without regard for law.</td>\n",
       "                        <td id=\"T_1e4a8824_f65c_11eb_b310_0242ac140003row9_col3\" class=\"data row9 col3\" >23.089102</td>\n",
       "            </tr>\n",
       "    </tbody></table>"
      ],
      "text/plain": [
       "<pandas.io.formats.style.Styler at 0x7fe738357278>"
      ]
     },
     "execution_count": 10,
     "metadata": {},
     "output_type": "execute_result"
    }
   ],
   "source": [
    "\n",
    "\n",
    "passages = res_passages_lst[0]\n",
    "scores = D[0]\n",
    "\n",
    "\n",
    "df = pd.DataFrame({\n",
    "    'Article': [p['article_title'] for p in passages],\n",
    "    'Sections': [p['section_title'] if p['section_title'].strip() != '' else p['article_title'] for p in passages],\n",
    "    'Text': [p['passage_text'] for p in passages],\n",
    "    'Score': scores\n",
    "})\n",
    "df.style.set_properties(**{'text-align': 'left'})"
   ]
  },
  {
   "cell_type": "markdown",
   "id": "f426798c",
   "metadata": {},
   "source": [
    "## Answer generation"
   ]
  },
  {
   "cell_type": "code",
   "execution_count": 11,
   "id": "3e724e71",
   "metadata": {},
   "outputs": [],
   "source": [
    "qa_s2s_tokenizer = AutoTokenizer.from_pretrained('yjernite/bart_eli5', cache_dir='./tokenaizers')\n",
    "qa_s2s_model = AutoModelForSeq2SeqLM.from_pretrained('yjernite/bart_eli5', cache_dir='./models').to('cuda:0')\n",
    "_ = qa_s2s_model.eval()"
   ]
  },
  {
   "cell_type": "code",
   "execution_count": 21,
   "id": "b5ef2884",
   "metadata": {},
   "outputs": [],
   "source": [
    "def answer_on(questions):\n",
    "    question_docs = []\n",
    "    for question in questions:\n",
    "        doc, res_list = query_qa_dense_index(\n",
    "            question, qar_model, qar_tokenizer,\n",
    "            wiki40b_snippets, wiki40b_index_flat, device='cuda:0'\n",
    "        )\n",
    "        # concatenate question and support document into BART input\n",
    "        question_docs.append(\"question: {} context: {}\".format(question, doc))\n",
    "    \n",
    "    # generate an answer with beam search\n",
    "\n",
    "    num_answers=10\n",
    "    num_beams=8\n",
    "    min_len=64\n",
    "    max_len=256\n",
    "    max_input_length=1024\n",
    "    do_sample=False\n",
    "    temp=1.0\n",
    "    top_p=None\n",
    "    top_k=None\n",
    "    device=\"cuda:0\"\n",
    "    \n",
    "    model_inputs = make_qa_s2s_batch([(doc, \"A\") for doc in question_docs], qa_s2s_tokenizer, max_input_length, device=device,)\n",
    "    \n",
    "    n_beams = num_answers if num_beams is None else max(num_beams, num_answers)\n",
    "    generated_ids = qa_s2s_model.generate(\n",
    "        input_ids=model_inputs[\"input_ids\"],\n",
    "        attention_mask=model_inputs[\"attention_mask\"],\n",
    "        min_length=min_len,\n",
    "        max_length=max_len,\n",
    "        do_sample=do_sample,\n",
    "        early_stopping=True,\n",
    "        num_beams=1 if do_sample else n_beams,\n",
    "        temperature=temp,\n",
    "        top_k=top_k,\n",
    "        top_p=top_p,\n",
    "        eos_token_id=qa_s2s_tokenizer.eos_token_id,\n",
    "        no_repeat_ngram_size=3,\n",
    "        num_return_sequences=num_answers,\n",
    "        decoder_start_token_id=qa_s2s_tokenizer.bos_token_id,\n",
    "    )\n",
    "    return [ans_ids.strip() for ans_ids in qa_s2s_tokenizer.batch_decode(generated_ids, skip_special_tokens=True)]\n"
   ]
  },
  {
   "cell_type": "code",
   "execution_count": 25,
   "id": "dca64c63",
   "metadata": {},
   "outputs": [
    {
     "data": {
      "text/plain": [
       "['What is stopping us from covering large sections of the desert with solar panels?',\n",
       " 'Why is tuna never a sustainable dinner option? What makes even farmed tuna never sustainable?',\n",
       " 'How do elevator logistics work? That is: What happens to an elevator car after it deposits somebody at their floor? Does it stay at Floor N until called to another, or immediately go back down to Floor 1?']"
      ]
     },
     "execution_count": 25,
     "metadata": {},
     "output_type": "execute_result"
    }
   ],
   "source": [
    "eli5['test_eli5'][12342:12345]['title']"
   ]
  },
  {
   "cell_type": "code",
   "execution_count": 26,
   "id": "5bffcde3",
   "metadata": {
    "scrolled": false
   },
   "outputs": [
    {
     "ename": "RuntimeError",
     "evalue": "CUDA out of memory. Tried to allocate 120.00 MiB (GPU 0; 5.93 GiB total capacity; 3.46 GiB already allocated; 215.12 MiB free; 3.63 GiB reserved in total by PyTorch)",
     "output_type": "error",
     "traceback": [
      "\u001b[0;31m---------------------------------------------------------------------------\u001b[0m",
      "\u001b[0;31mRuntimeError\u001b[0m                              Traceback (most recent call last)",
      "\u001b[0;32m<ipython-input-26-a8f1baf3c63d>\u001b[0m in \u001b[0;36m<module>\u001b[0;34m\u001b[0m\n\u001b[1;32m      1\u001b[0m \u001b[0mquestions\u001b[0m \u001b[0;34m=\u001b[0m \u001b[0meli5\u001b[0m\u001b[0;34m[\u001b[0m\u001b[0;34m'test_eli5'\u001b[0m\u001b[0;34m]\u001b[0m\u001b[0;34m[\u001b[0m\u001b[0;36m12342\u001b[0m\u001b[0;34m:\u001b[0m\u001b[0;36m12345\u001b[0m\u001b[0;34m]\u001b[0m\u001b[0;34m[\u001b[0m\u001b[0;34m'title'\u001b[0m\u001b[0;34m]\u001b[0m\u001b[0;34m\u001b[0m\u001b[0;34m\u001b[0m\u001b[0m\n\u001b[0;32m----> 2\u001b[0;31m \u001b[0manswer\u001b[0m \u001b[0;34m=\u001b[0m \u001b[0manswer_on\u001b[0m\u001b[0;34m(\u001b[0m\u001b[0mquestions\u001b[0m\u001b[0;34m)\u001b[0m\u001b[0;34m\u001b[0m\u001b[0;34m\u001b[0m\u001b[0m\n\u001b[0m\u001b[1;32m      3\u001b[0m \u001b[0mprint\u001b[0m\u001b[0;34m(\u001b[0m\u001b[0mquestion\u001b[0m\u001b[0;34m)\u001b[0m\u001b[0;34m\u001b[0m\u001b[0;34m\u001b[0m\u001b[0m\n\u001b[1;32m      4\u001b[0m \u001b[0mprint\u001b[0m\u001b[0;34m(\u001b[0m\u001b[0mlen\u001b[0m\u001b[0;34m(\u001b[0m\u001b[0manswer\u001b[0m\u001b[0;34m)\u001b[0m\u001b[0;34m,\u001b[0m \u001b[0manswer\u001b[0m\u001b[0;34m[\u001b[0m\u001b[0;36m0\u001b[0m\u001b[0;34m]\u001b[0m\u001b[0;34m)\u001b[0m\u001b[0;34m\u001b[0m\u001b[0;34m\u001b[0m\u001b[0m\n",
      "\u001b[0;32m<ipython-input-21-c6bb4ca526da>\u001b[0m in \u001b[0;36manswer_on\u001b[0;34m(questions)\u001b[0m\n\u001b[1;32m     39\u001b[0m         \u001b[0mno_repeat_ngram_size\u001b[0m\u001b[0;34m=\u001b[0m\u001b[0;36m3\u001b[0m\u001b[0;34m,\u001b[0m\u001b[0;34m\u001b[0m\u001b[0;34m\u001b[0m\u001b[0m\n\u001b[1;32m     40\u001b[0m         \u001b[0mnum_return_sequences\u001b[0m\u001b[0;34m=\u001b[0m\u001b[0mnum_answers\u001b[0m\u001b[0;34m,\u001b[0m\u001b[0;34m\u001b[0m\u001b[0;34m\u001b[0m\u001b[0m\n\u001b[0;32m---> 41\u001b[0;31m         \u001b[0mdecoder_start_token_id\u001b[0m\u001b[0;34m=\u001b[0m\u001b[0mqa_s2s_tokenizer\u001b[0m\u001b[0;34m.\u001b[0m\u001b[0mbos_token_id\u001b[0m\u001b[0;34m,\u001b[0m\u001b[0;34m\u001b[0m\u001b[0;34m\u001b[0m\u001b[0m\n\u001b[0m\u001b[1;32m     42\u001b[0m     )\n\u001b[1;32m     43\u001b[0m     \u001b[0;32mreturn\u001b[0m \u001b[0;34m[\u001b[0m\u001b[0mans_ids\u001b[0m\u001b[0;34m.\u001b[0m\u001b[0mstrip\u001b[0m\u001b[0;34m(\u001b[0m\u001b[0;34m)\u001b[0m \u001b[0;32mfor\u001b[0m \u001b[0mans_ids\u001b[0m \u001b[0;32min\u001b[0m \u001b[0mqa_s2s_tokenizer\u001b[0m\u001b[0;34m.\u001b[0m\u001b[0mbatch_decode\u001b[0m\u001b[0;34m(\u001b[0m\u001b[0mgenerated_ids\u001b[0m\u001b[0;34m,\u001b[0m \u001b[0mskip_special_tokens\u001b[0m\u001b[0;34m=\u001b[0m\u001b[0;32mTrue\u001b[0m\u001b[0;34m)\u001b[0m\u001b[0;34m]\u001b[0m\u001b[0;34m\u001b[0m\u001b[0;34m\u001b[0m\u001b[0m\n",
      "\u001b[0;32m/usr/local/lib/python3.6/dist-packages/torch/autograd/grad_mode.py\u001b[0m in \u001b[0;36mdecorate_context\u001b[0;34m(*args, **kwargs)\u001b[0m\n\u001b[1;32m     26\u001b[0m         \u001b[0;32mdef\u001b[0m \u001b[0mdecorate_context\u001b[0m\u001b[0;34m(\u001b[0m\u001b[0;34m*\u001b[0m\u001b[0margs\u001b[0m\u001b[0;34m,\u001b[0m \u001b[0;34m**\u001b[0m\u001b[0mkwargs\u001b[0m\u001b[0;34m)\u001b[0m\u001b[0;34m:\u001b[0m\u001b[0;34m\u001b[0m\u001b[0;34m\u001b[0m\u001b[0m\n\u001b[1;32m     27\u001b[0m             \u001b[0;32mwith\u001b[0m \u001b[0mself\u001b[0m\u001b[0;34m.\u001b[0m\u001b[0m__class__\u001b[0m\u001b[0;34m(\u001b[0m\u001b[0;34m)\u001b[0m\u001b[0;34m:\u001b[0m\u001b[0;34m\u001b[0m\u001b[0;34m\u001b[0m\u001b[0m\n\u001b[0;32m---> 28\u001b[0;31m                 \u001b[0;32mreturn\u001b[0m \u001b[0mfunc\u001b[0m\u001b[0;34m(\u001b[0m\u001b[0;34m*\u001b[0m\u001b[0margs\u001b[0m\u001b[0;34m,\u001b[0m \u001b[0;34m**\u001b[0m\u001b[0mkwargs\u001b[0m\u001b[0;34m)\u001b[0m\u001b[0;34m\u001b[0m\u001b[0;34m\u001b[0m\u001b[0m\n\u001b[0m\u001b[1;32m     29\u001b[0m         \u001b[0;32mreturn\u001b[0m \u001b[0mcast\u001b[0m\u001b[0;34m(\u001b[0m\u001b[0mF\u001b[0m\u001b[0;34m,\u001b[0m \u001b[0mdecorate_context\u001b[0m\u001b[0;34m)\u001b[0m\u001b[0;34m\u001b[0m\u001b[0;34m\u001b[0m\u001b[0m\n\u001b[1;32m     30\u001b[0m \u001b[0;34m\u001b[0m\u001b[0m\n",
      "\u001b[0;32m/usr/local/lib/python3.6/dist-packages/transformers/generation_utils.py\u001b[0m in \u001b[0;36mgenerate\u001b[0;34m(self, input_ids, max_length, min_length, do_sample, early_stopping, num_beams, temperature, top_k, top_p, repetition_penalty, bad_words_ids, bos_token_id, pad_token_id, eos_token_id, length_penalty, no_repeat_ngram_size, encoder_no_repeat_ngram_size, num_return_sequences, max_time, max_new_tokens, decoder_start_token_id, use_cache, num_beam_groups, diversity_penalty, prefix_allowed_tokens_fn, output_attentions, output_hidden_states, output_scores, return_dict_in_generate, forced_bos_token_id, forced_eos_token_id, remove_invalid_values, synced_gpus, **model_kwargs)\u001b[0m\n\u001b[1;32m   1061\u001b[0m                 \u001b[0mreturn_dict_in_generate\u001b[0m\u001b[0;34m=\u001b[0m\u001b[0mreturn_dict_in_generate\u001b[0m\u001b[0;34m,\u001b[0m\u001b[0;34m\u001b[0m\u001b[0;34m\u001b[0m\u001b[0m\n\u001b[1;32m   1062\u001b[0m                 \u001b[0msynced_gpus\u001b[0m\u001b[0;34m=\u001b[0m\u001b[0msynced_gpus\u001b[0m\u001b[0;34m,\u001b[0m\u001b[0;34m\u001b[0m\u001b[0;34m\u001b[0m\u001b[0m\n\u001b[0;32m-> 1063\u001b[0;31m                 \u001b[0;34m**\u001b[0m\u001b[0mmodel_kwargs\u001b[0m\u001b[0;34m,\u001b[0m\u001b[0;34m\u001b[0m\u001b[0;34m\u001b[0m\u001b[0m\n\u001b[0m\u001b[1;32m   1064\u001b[0m             )\n\u001b[1;32m   1065\u001b[0m \u001b[0;34m\u001b[0m\u001b[0m\n",
      "\u001b[0;32m/usr/local/lib/python3.6/dist-packages/transformers/generation_utils.py\u001b[0m in \u001b[0;36mbeam_search\u001b[0;34m(self, input_ids, beam_scorer, logits_processor, stopping_criteria, max_length, pad_token_id, eos_token_id, output_attentions, output_hidden_states, output_scores, return_dict_in_generate, synced_gpus, **model_kwargs)\u001b[0m\n\u001b[1;32m   1792\u001b[0m                 \u001b[0mreturn_dict\u001b[0m\u001b[0;34m=\u001b[0m\u001b[0;32mTrue\u001b[0m\u001b[0;34m,\u001b[0m\u001b[0;34m\u001b[0m\u001b[0;34m\u001b[0m\u001b[0m\n\u001b[1;32m   1793\u001b[0m                 \u001b[0moutput_attentions\u001b[0m\u001b[0;34m=\u001b[0m\u001b[0moutput_attentions\u001b[0m\u001b[0;34m,\u001b[0m\u001b[0;34m\u001b[0m\u001b[0;34m\u001b[0m\u001b[0m\n\u001b[0;32m-> 1794\u001b[0;31m                 \u001b[0moutput_hidden_states\u001b[0m\u001b[0;34m=\u001b[0m\u001b[0moutput_hidden_states\u001b[0m\u001b[0;34m,\u001b[0m\u001b[0;34m\u001b[0m\u001b[0;34m\u001b[0m\u001b[0m\n\u001b[0m\u001b[1;32m   1795\u001b[0m             )\n\u001b[1;32m   1796\u001b[0m \u001b[0;34m\u001b[0m\u001b[0m\n",
      "\u001b[0;32m/usr/local/lib/python3.6/dist-packages/torch/nn/modules/module.py\u001b[0m in \u001b[0;36m_call_impl\u001b[0;34m(self, *input, **kwargs)\u001b[0m\n\u001b[1;32m   1049\u001b[0m         if not (self._backward_hooks or self._forward_hooks or self._forward_pre_hooks or _global_backward_hooks\n\u001b[1;32m   1050\u001b[0m                 or _global_forward_hooks or _global_forward_pre_hooks):\n\u001b[0;32m-> 1051\u001b[0;31m             \u001b[0;32mreturn\u001b[0m \u001b[0mforward_call\u001b[0m\u001b[0;34m(\u001b[0m\u001b[0;34m*\u001b[0m\u001b[0minput\u001b[0m\u001b[0;34m,\u001b[0m \u001b[0;34m**\u001b[0m\u001b[0mkwargs\u001b[0m\u001b[0;34m)\u001b[0m\u001b[0;34m\u001b[0m\u001b[0;34m\u001b[0m\u001b[0m\n\u001b[0m\u001b[1;32m   1052\u001b[0m         \u001b[0;31m# Do not call functions when jit is used\u001b[0m\u001b[0;34m\u001b[0m\u001b[0;34m\u001b[0m\u001b[0;34m\u001b[0m\u001b[0m\n\u001b[1;32m   1053\u001b[0m         \u001b[0mfull_backward_hooks\u001b[0m\u001b[0;34m,\u001b[0m \u001b[0mnon_full_backward_hooks\u001b[0m \u001b[0;34m=\u001b[0m \u001b[0;34m[\u001b[0m\u001b[0;34m]\u001b[0m\u001b[0;34m,\u001b[0m \u001b[0;34m[\u001b[0m\u001b[0;34m]\u001b[0m\u001b[0;34m\u001b[0m\u001b[0;34m\u001b[0m\u001b[0m\n",
      "\u001b[0;32m/usr/local/lib/python3.6/dist-packages/transformers/models/bart/modeling_bart.py\u001b[0m in \u001b[0;36mforward\u001b[0;34m(self, input_ids, attention_mask, decoder_input_ids, decoder_attention_mask, head_mask, decoder_head_mask, cross_attn_head_mask, encoder_outputs, past_key_values, inputs_embeds, decoder_inputs_embeds, labels, use_cache, output_attentions, output_hidden_states, return_dict)\u001b[0m\n\u001b[1;32m   1306\u001b[0m             \u001b[0moutput_attentions\u001b[0m\u001b[0;34m=\u001b[0m\u001b[0moutput_attentions\u001b[0m\u001b[0;34m,\u001b[0m\u001b[0;34m\u001b[0m\u001b[0;34m\u001b[0m\u001b[0m\n\u001b[1;32m   1307\u001b[0m             \u001b[0moutput_hidden_states\u001b[0m\u001b[0;34m=\u001b[0m\u001b[0moutput_hidden_states\u001b[0m\u001b[0;34m,\u001b[0m\u001b[0;34m\u001b[0m\u001b[0;34m\u001b[0m\u001b[0m\n\u001b[0;32m-> 1308\u001b[0;31m             \u001b[0mreturn_dict\u001b[0m\u001b[0;34m=\u001b[0m\u001b[0mreturn_dict\u001b[0m\u001b[0;34m,\u001b[0m\u001b[0;34m\u001b[0m\u001b[0;34m\u001b[0m\u001b[0m\n\u001b[0m\u001b[1;32m   1309\u001b[0m         )\n\u001b[1;32m   1310\u001b[0m         \u001b[0mlm_logits\u001b[0m \u001b[0;34m=\u001b[0m \u001b[0mself\u001b[0m\u001b[0;34m.\u001b[0m\u001b[0mlm_head\u001b[0m\u001b[0;34m(\u001b[0m\u001b[0moutputs\u001b[0m\u001b[0;34m[\u001b[0m\u001b[0;36m0\u001b[0m\u001b[0;34m]\u001b[0m\u001b[0;34m)\u001b[0m \u001b[0;34m+\u001b[0m \u001b[0mself\u001b[0m\u001b[0;34m.\u001b[0m\u001b[0mfinal_logits_bias\u001b[0m\u001b[0;34m\u001b[0m\u001b[0;34m\u001b[0m\u001b[0m\n",
      "\u001b[0;32m/usr/local/lib/python3.6/dist-packages/torch/nn/modules/module.py\u001b[0m in \u001b[0;36m_call_impl\u001b[0;34m(self, *input, **kwargs)\u001b[0m\n\u001b[1;32m   1049\u001b[0m         if not (self._backward_hooks or self._forward_hooks or self._forward_pre_hooks or _global_backward_hooks\n\u001b[1;32m   1050\u001b[0m                 or _global_forward_hooks or _global_forward_pre_hooks):\n\u001b[0;32m-> 1051\u001b[0;31m             \u001b[0;32mreturn\u001b[0m \u001b[0mforward_call\u001b[0m\u001b[0;34m(\u001b[0m\u001b[0;34m*\u001b[0m\u001b[0minput\u001b[0m\u001b[0;34m,\u001b[0m \u001b[0;34m**\u001b[0m\u001b[0mkwargs\u001b[0m\u001b[0;34m)\u001b[0m\u001b[0;34m\u001b[0m\u001b[0;34m\u001b[0m\u001b[0m\n\u001b[0m\u001b[1;32m   1052\u001b[0m         \u001b[0;31m# Do not call functions when jit is used\u001b[0m\u001b[0;34m\u001b[0m\u001b[0;34m\u001b[0m\u001b[0;34m\u001b[0m\u001b[0m\n\u001b[1;32m   1053\u001b[0m         \u001b[0mfull_backward_hooks\u001b[0m\u001b[0;34m,\u001b[0m \u001b[0mnon_full_backward_hooks\u001b[0m \u001b[0;34m=\u001b[0m \u001b[0;34m[\u001b[0m\u001b[0;34m]\u001b[0m\u001b[0;34m,\u001b[0m \u001b[0;34m[\u001b[0m\u001b[0;34m]\u001b[0m\u001b[0;34m\u001b[0m\u001b[0;34m\u001b[0m\u001b[0m\n",
      "\u001b[0;32m/usr/local/lib/python3.6/dist-packages/transformers/models/bart/modeling_bart.py\u001b[0m in \u001b[0;36mforward\u001b[0;34m(self, input_ids, attention_mask, decoder_input_ids, decoder_attention_mask, head_mask, decoder_head_mask, cross_attn_head_mask, encoder_outputs, past_key_values, inputs_embeds, decoder_inputs_embeds, use_cache, output_attentions, output_hidden_states, return_dict)\u001b[0m\n\u001b[1;32m   1194\u001b[0m             \u001b[0moutput_attentions\u001b[0m\u001b[0;34m=\u001b[0m\u001b[0moutput_attentions\u001b[0m\u001b[0;34m,\u001b[0m\u001b[0;34m\u001b[0m\u001b[0;34m\u001b[0m\u001b[0m\n\u001b[1;32m   1195\u001b[0m             \u001b[0moutput_hidden_states\u001b[0m\u001b[0;34m=\u001b[0m\u001b[0moutput_hidden_states\u001b[0m\u001b[0;34m,\u001b[0m\u001b[0;34m\u001b[0m\u001b[0;34m\u001b[0m\u001b[0m\n\u001b[0;32m-> 1196\u001b[0;31m             \u001b[0mreturn_dict\u001b[0m\u001b[0;34m=\u001b[0m\u001b[0mreturn_dict\u001b[0m\u001b[0;34m,\u001b[0m\u001b[0;34m\u001b[0m\u001b[0;34m\u001b[0m\u001b[0m\n\u001b[0m\u001b[1;32m   1197\u001b[0m         )\n\u001b[1;32m   1198\u001b[0m \u001b[0;34m\u001b[0m\u001b[0m\n",
      "\u001b[0;32m/usr/local/lib/python3.6/dist-packages/torch/nn/modules/module.py\u001b[0m in \u001b[0;36m_call_impl\u001b[0;34m(self, *input, **kwargs)\u001b[0m\n\u001b[1;32m   1049\u001b[0m         if not (self._backward_hooks or self._forward_hooks or self._forward_pre_hooks or _global_backward_hooks\n\u001b[1;32m   1050\u001b[0m                 or _global_forward_hooks or _global_forward_pre_hooks):\n\u001b[0;32m-> 1051\u001b[0;31m             \u001b[0;32mreturn\u001b[0m \u001b[0mforward_call\u001b[0m\u001b[0;34m(\u001b[0m\u001b[0;34m*\u001b[0m\u001b[0minput\u001b[0m\u001b[0;34m,\u001b[0m \u001b[0;34m**\u001b[0m\u001b[0mkwargs\u001b[0m\u001b[0;34m)\u001b[0m\u001b[0;34m\u001b[0m\u001b[0;34m\u001b[0m\u001b[0m\n\u001b[0m\u001b[1;32m   1052\u001b[0m         \u001b[0;31m# Do not call functions when jit is used\u001b[0m\u001b[0;34m\u001b[0m\u001b[0;34m\u001b[0m\u001b[0;34m\u001b[0m\u001b[0m\n\u001b[1;32m   1053\u001b[0m         \u001b[0mfull_backward_hooks\u001b[0m\u001b[0;34m,\u001b[0m \u001b[0mnon_full_backward_hooks\u001b[0m \u001b[0;34m=\u001b[0m \u001b[0;34m[\u001b[0m\u001b[0;34m]\u001b[0m\u001b[0;34m,\u001b[0m \u001b[0;34m[\u001b[0m\u001b[0;34m]\u001b[0m\u001b[0;34m\u001b[0m\u001b[0;34m\u001b[0m\u001b[0m\n",
      "\u001b[0;32m/usr/local/lib/python3.6/dist-packages/transformers/models/bart/modeling_bart.py\u001b[0m in \u001b[0;36mforward\u001b[0;34m(self, input_ids, attention_mask, encoder_hidden_states, encoder_attention_mask, head_mask, cross_attn_head_mask, past_key_values, inputs_embeds, use_cache, output_attentions, output_hidden_states, return_dict)\u001b[0m\n\u001b[1;32m   1060\u001b[0m                     \u001b[0mpast_key_value\u001b[0m\u001b[0;34m=\u001b[0m\u001b[0mpast_key_value\u001b[0m\u001b[0;34m,\u001b[0m\u001b[0;34m\u001b[0m\u001b[0;34m\u001b[0m\u001b[0m\n\u001b[1;32m   1061\u001b[0m                     \u001b[0moutput_attentions\u001b[0m\u001b[0;34m=\u001b[0m\u001b[0moutput_attentions\u001b[0m\u001b[0;34m,\u001b[0m\u001b[0;34m\u001b[0m\u001b[0;34m\u001b[0m\u001b[0m\n\u001b[0;32m-> 1062\u001b[0;31m                     \u001b[0muse_cache\u001b[0m\u001b[0;34m=\u001b[0m\u001b[0muse_cache\u001b[0m\u001b[0;34m,\u001b[0m\u001b[0;34m\u001b[0m\u001b[0;34m\u001b[0m\u001b[0m\n\u001b[0m\u001b[1;32m   1063\u001b[0m                 )\n\u001b[1;32m   1064\u001b[0m             \u001b[0mhidden_states\u001b[0m \u001b[0;34m=\u001b[0m \u001b[0mlayer_outputs\u001b[0m\u001b[0;34m[\u001b[0m\u001b[0;36m0\u001b[0m\u001b[0;34m]\u001b[0m\u001b[0;34m\u001b[0m\u001b[0;34m\u001b[0m\u001b[0m\n",
      "\u001b[0;32m/usr/local/lib/python3.6/dist-packages/torch/nn/modules/module.py\u001b[0m in \u001b[0;36m_call_impl\u001b[0;34m(self, *input, **kwargs)\u001b[0m\n\u001b[1;32m   1049\u001b[0m         if not (self._backward_hooks or self._forward_hooks or self._forward_pre_hooks or _global_backward_hooks\n\u001b[1;32m   1050\u001b[0m                 or _global_forward_hooks or _global_forward_pre_hooks):\n\u001b[0;32m-> 1051\u001b[0;31m             \u001b[0;32mreturn\u001b[0m \u001b[0mforward_call\u001b[0m\u001b[0;34m(\u001b[0m\u001b[0;34m*\u001b[0m\u001b[0minput\u001b[0m\u001b[0;34m,\u001b[0m \u001b[0;34m**\u001b[0m\u001b[0mkwargs\u001b[0m\u001b[0;34m)\u001b[0m\u001b[0;34m\u001b[0m\u001b[0;34m\u001b[0m\u001b[0m\n\u001b[0m\u001b[1;32m   1052\u001b[0m         \u001b[0;31m# Do not call functions when jit is used\u001b[0m\u001b[0;34m\u001b[0m\u001b[0;34m\u001b[0m\u001b[0;34m\u001b[0m\u001b[0m\n\u001b[1;32m   1053\u001b[0m         \u001b[0mfull_backward_hooks\u001b[0m\u001b[0;34m,\u001b[0m \u001b[0mnon_full_backward_hooks\u001b[0m \u001b[0;34m=\u001b[0m \u001b[0;34m[\u001b[0m\u001b[0;34m]\u001b[0m\u001b[0;34m,\u001b[0m \u001b[0;34m[\u001b[0m\u001b[0;34m]\u001b[0m\u001b[0;34m\u001b[0m\u001b[0;34m\u001b[0m\u001b[0m\n",
      "\u001b[0;32m/usr/local/lib/python3.6/dist-packages/transformers/models/bart/modeling_bart.py\u001b[0m in \u001b[0;36mforward\u001b[0;34m(self, hidden_states, attention_mask, encoder_hidden_states, encoder_attention_mask, layer_head_mask, cross_attn_layer_head_mask, past_key_value, output_attentions, use_cache)\u001b[0m\n\u001b[1;32m    416\u001b[0m                 \u001b[0mlayer_head_mask\u001b[0m\u001b[0;34m=\u001b[0m\u001b[0mcross_attn_layer_head_mask\u001b[0m\u001b[0;34m,\u001b[0m\u001b[0;34m\u001b[0m\u001b[0;34m\u001b[0m\u001b[0m\n\u001b[1;32m    417\u001b[0m                 \u001b[0mpast_key_value\u001b[0m\u001b[0;34m=\u001b[0m\u001b[0mcross_attn_past_key_value\u001b[0m\u001b[0;34m,\u001b[0m\u001b[0;34m\u001b[0m\u001b[0;34m\u001b[0m\u001b[0m\n\u001b[0;32m--> 418\u001b[0;31m                 \u001b[0moutput_attentions\u001b[0m\u001b[0;34m=\u001b[0m\u001b[0moutput_attentions\u001b[0m\u001b[0;34m,\u001b[0m\u001b[0;34m\u001b[0m\u001b[0;34m\u001b[0m\u001b[0m\n\u001b[0m\u001b[1;32m    419\u001b[0m             )\n\u001b[1;32m    420\u001b[0m             \u001b[0mhidden_states\u001b[0m \u001b[0;34m=\u001b[0m \u001b[0mnn\u001b[0m\u001b[0;34m.\u001b[0m\u001b[0mfunctional\u001b[0m\u001b[0;34m.\u001b[0m\u001b[0mdropout\u001b[0m\u001b[0;34m(\u001b[0m\u001b[0mhidden_states\u001b[0m\u001b[0;34m,\u001b[0m \u001b[0mp\u001b[0m\u001b[0;34m=\u001b[0m\u001b[0mself\u001b[0m\u001b[0;34m.\u001b[0m\u001b[0mdropout\u001b[0m\u001b[0;34m,\u001b[0m \u001b[0mtraining\u001b[0m\u001b[0;34m=\u001b[0m\u001b[0mself\u001b[0m\u001b[0;34m.\u001b[0m\u001b[0mtraining\u001b[0m\u001b[0;34m)\u001b[0m\u001b[0;34m\u001b[0m\u001b[0;34m\u001b[0m\u001b[0m\n",
      "\u001b[0;32m/usr/local/lib/python3.6/dist-packages/torch/nn/modules/module.py\u001b[0m in \u001b[0;36m_call_impl\u001b[0;34m(self, *input, **kwargs)\u001b[0m\n\u001b[1;32m   1049\u001b[0m         if not (self._backward_hooks or self._forward_hooks or self._forward_pre_hooks or _global_backward_hooks\n\u001b[1;32m   1050\u001b[0m                 or _global_forward_hooks or _global_forward_pre_hooks):\n\u001b[0;32m-> 1051\u001b[0;31m             \u001b[0;32mreturn\u001b[0m \u001b[0mforward_call\u001b[0m\u001b[0;34m(\u001b[0m\u001b[0;34m*\u001b[0m\u001b[0minput\u001b[0m\u001b[0;34m,\u001b[0m \u001b[0;34m**\u001b[0m\u001b[0mkwargs\u001b[0m\u001b[0;34m)\u001b[0m\u001b[0;34m\u001b[0m\u001b[0;34m\u001b[0m\u001b[0m\n\u001b[0m\u001b[1;32m   1052\u001b[0m         \u001b[0;31m# Do not call functions when jit is used\u001b[0m\u001b[0;34m\u001b[0m\u001b[0;34m\u001b[0m\u001b[0;34m\u001b[0m\u001b[0m\n\u001b[1;32m   1053\u001b[0m         \u001b[0mfull_backward_hooks\u001b[0m\u001b[0;34m,\u001b[0m \u001b[0mnon_full_backward_hooks\u001b[0m \u001b[0;34m=\u001b[0m \u001b[0;34m[\u001b[0m\u001b[0;34m]\u001b[0m\u001b[0;34m,\u001b[0m \u001b[0;34m[\u001b[0m\u001b[0;34m]\u001b[0m\u001b[0;34m\u001b[0m\u001b[0;34m\u001b[0m\u001b[0m\n",
      "\u001b[0;32m/usr/local/lib/python3.6/dist-packages/transformers/models/bart/modeling_bart.py\u001b[0m in \u001b[0;36mforward\u001b[0;34m(self, hidden_states, key_value_states, past_key_value, attention_mask, layer_head_mask, output_attentions)\u001b[0m\n\u001b[1;32m    179\u001b[0m         \u001b[0;32melif\u001b[0m \u001b[0mis_cross_attention\u001b[0m\u001b[0;34m:\u001b[0m\u001b[0;34m\u001b[0m\u001b[0;34m\u001b[0m\u001b[0m\n\u001b[1;32m    180\u001b[0m             \u001b[0;31m# cross_attentions\u001b[0m\u001b[0;34m\u001b[0m\u001b[0;34m\u001b[0m\u001b[0;34m\u001b[0m\u001b[0m\n\u001b[0;32m--> 181\u001b[0;31m             \u001b[0mkey_states\u001b[0m \u001b[0;34m=\u001b[0m \u001b[0mself\u001b[0m\u001b[0;34m.\u001b[0m\u001b[0m_shape\u001b[0m\u001b[0;34m(\u001b[0m\u001b[0mself\u001b[0m\u001b[0;34m.\u001b[0m\u001b[0mk_proj\u001b[0m\u001b[0;34m(\u001b[0m\u001b[0mkey_value_states\u001b[0m\u001b[0;34m)\u001b[0m\u001b[0;34m,\u001b[0m \u001b[0;34m-\u001b[0m\u001b[0;36m1\u001b[0m\u001b[0;34m,\u001b[0m \u001b[0mbsz\u001b[0m\u001b[0;34m)\u001b[0m\u001b[0;34m\u001b[0m\u001b[0;34m\u001b[0m\u001b[0m\n\u001b[0m\u001b[1;32m    182\u001b[0m             \u001b[0mvalue_states\u001b[0m \u001b[0;34m=\u001b[0m \u001b[0mself\u001b[0m\u001b[0;34m.\u001b[0m\u001b[0m_shape\u001b[0m\u001b[0;34m(\u001b[0m\u001b[0mself\u001b[0m\u001b[0;34m.\u001b[0m\u001b[0mv_proj\u001b[0m\u001b[0;34m(\u001b[0m\u001b[0mkey_value_states\u001b[0m\u001b[0;34m)\u001b[0m\u001b[0;34m,\u001b[0m \u001b[0;34m-\u001b[0m\u001b[0;36m1\u001b[0m\u001b[0;34m,\u001b[0m \u001b[0mbsz\u001b[0m\u001b[0;34m)\u001b[0m\u001b[0;34m\u001b[0m\u001b[0;34m\u001b[0m\u001b[0m\n\u001b[1;32m    183\u001b[0m         \u001b[0;32melif\u001b[0m \u001b[0mpast_key_value\u001b[0m \u001b[0;32mis\u001b[0m \u001b[0;32mnot\u001b[0m \u001b[0;32mNone\u001b[0m\u001b[0;34m:\u001b[0m\u001b[0;34m\u001b[0m\u001b[0;34m\u001b[0m\u001b[0m\n",
      "\u001b[0;32m/usr/local/lib/python3.6/dist-packages/transformers/models/bart/modeling_bart.py\u001b[0m in \u001b[0;36m_shape\u001b[0;34m(self, tensor, seq_len, bsz)\u001b[0m\n\u001b[1;32m    152\u001b[0m \u001b[0;34m\u001b[0m\u001b[0m\n\u001b[1;32m    153\u001b[0m     \u001b[0;32mdef\u001b[0m \u001b[0m_shape\u001b[0m\u001b[0;34m(\u001b[0m\u001b[0mself\u001b[0m\u001b[0;34m,\u001b[0m \u001b[0mtensor\u001b[0m\u001b[0;34m:\u001b[0m \u001b[0mtorch\u001b[0m\u001b[0;34m.\u001b[0m\u001b[0mTensor\u001b[0m\u001b[0;34m,\u001b[0m \u001b[0mseq_len\u001b[0m\u001b[0;34m:\u001b[0m \u001b[0mint\u001b[0m\u001b[0;34m,\u001b[0m \u001b[0mbsz\u001b[0m\u001b[0;34m:\u001b[0m \u001b[0mint\u001b[0m\u001b[0;34m)\u001b[0m\u001b[0;34m:\u001b[0m\u001b[0;34m\u001b[0m\u001b[0;34m\u001b[0m\u001b[0m\n\u001b[0;32m--> 154\u001b[0;31m         \u001b[0;32mreturn\u001b[0m \u001b[0mtensor\u001b[0m\u001b[0;34m.\u001b[0m\u001b[0mview\u001b[0m\u001b[0;34m(\u001b[0m\u001b[0mbsz\u001b[0m\u001b[0;34m,\u001b[0m \u001b[0mseq_len\u001b[0m\u001b[0;34m,\u001b[0m \u001b[0mself\u001b[0m\u001b[0;34m.\u001b[0m\u001b[0mnum_heads\u001b[0m\u001b[0;34m,\u001b[0m \u001b[0mself\u001b[0m\u001b[0;34m.\u001b[0m\u001b[0mhead_dim\u001b[0m\u001b[0;34m)\u001b[0m\u001b[0;34m.\u001b[0m\u001b[0mtranspose\u001b[0m\u001b[0;34m(\u001b[0m\u001b[0;36m1\u001b[0m\u001b[0;34m,\u001b[0m \u001b[0;36m2\u001b[0m\u001b[0;34m)\u001b[0m\u001b[0;34m.\u001b[0m\u001b[0mcontiguous\u001b[0m\u001b[0;34m(\u001b[0m\u001b[0;34m)\u001b[0m\u001b[0;34m\u001b[0m\u001b[0;34m\u001b[0m\u001b[0m\n\u001b[0m\u001b[1;32m    155\u001b[0m \u001b[0;34m\u001b[0m\u001b[0m\n\u001b[1;32m    156\u001b[0m     def forward(\n",
      "\u001b[0;31mRuntimeError\u001b[0m: CUDA out of memory. Tried to allocate 120.00 MiB (GPU 0; 5.93 GiB total capacity; 3.46 GiB already allocated; 215.12 MiB free; 3.63 GiB reserved in total by PyTorch)"
     ]
    }
   ],
   "source": [
    "questions = eli5['test_eli5'][12342:12345]['title']\n",
    "answer = answer_on(questions)\n",
    "print(question)\n",
    "print(len(answer), answer[0])"
   ]
  },
  {
   "cell_type": "code",
   "execution_count": 11,
   "id": "bfa6fa5d",
   "metadata": {},
   "outputs": [
    {
     "data": {
      "text/html": [
       "<style  type=\"text/css\" >\n",
       "#T_31c0d8ca_f1a9_11eb_9133_0242ac150003row0_col0,#T_31c0d8ca_f1a9_11eb_9133_0242ac150003row0_col1,#T_31c0d8ca_f1a9_11eb_9133_0242ac150003row1_col0,#T_31c0d8ca_f1a9_11eb_9133_0242ac150003row1_col1,#T_31c0d8ca_f1a9_11eb_9133_0242ac150003row2_col0,#T_31c0d8ca_f1a9_11eb_9133_0242ac150003row2_col1,#T_31c0d8ca_f1a9_11eb_9133_0242ac150003row3_col0,#T_31c0d8ca_f1a9_11eb_9133_0242ac150003row3_col1,#T_31c0d8ca_f1a9_11eb_9133_0242ac150003row4_col0,#T_31c0d8ca_f1a9_11eb_9133_0242ac150003row4_col1{\n",
       "            text-align:  left;\n",
       "        }</style><table id=\"T_31c0d8ca_f1a9_11eb_9133_0242ac150003\" ><thead>    <tr>        <th class=\"blank level0\" ></th>        <th class=\"col_heading level0 col0\" >Question</th>        <th class=\"col_heading level0 col1\" >Answer</th>    </tr></thead><tbody>\n",
       "                <tr>\n",
       "                        <th id=\"T_31c0d8ca_f1a9_11eb_9133_0242ac150003level0_row0\" class=\"row_heading level0 row0\" >0</th>\n",
       "                        <td id=\"T_31c0d8ca_f1a9_11eb_9133_0242ac150003row0_col0\" class=\"data row0 col0\" >What is stopping us from covering large sections of the desert with solar panels?</td>\n",
       "                        <td id=\"T_31c0d8ca_f1a9_11eb_9133_0242ac150003row0_col1\" class=\"data row0 col1\" >Nothing is stopping us from covering large sections of the desert with solar panels. The problem is that it takes a lot of money to do so, and it's very expensive to do it on a large scale. There's also the issue of how much water it takes to power the panels, and how much of that water is actually used.</td>\n",
       "            </tr>\n",
       "            <tr>\n",
       "                        <th id=\"T_31c0d8ca_f1a9_11eb_9133_0242ac150003level0_row1\" class=\"row_heading level0 row1\" >1</th>\n",
       "                        <td id=\"T_31c0d8ca_f1a9_11eb_9133_0242ac150003row1_col0\" class=\"data row1 col0\" >Why do you get chills/goosebumps from hearing large crowds sing along to songs?</td>\n",
       "                        <td id=\"T_31c0d8ca_f1a9_11eb_9133_0242ac150003row1_col1\" class=\"data row1 col1\" >It's called frisson, and it's caused by the release of a chemical called dopamine, which makes you feel good.  URL_0   > Frisson is a pleasure experience that causes changes in your heart rate and goose bumps. Frisson may be associated with music as a prerequisite. It has been shown that some people experiencing musical frisson are more likely to be high on drugs, alcohol, or money. The pleasure experience is driven by the chemical dopamine.</td>\n",
       "            </tr>\n",
       "            <tr>\n",
       "                        <th id=\"T_31c0d8ca_f1a9_11eb_9133_0242ac150003level0_row2\" class=\"row_heading level0 row2\" >2</th>\n",
       "                        <td id=\"T_31c0d8ca_f1a9_11eb_9133_0242ac150003row2_col0\" class=\"data row2 col0\" >How did studded leather and heavy eye makeup come to be the Hollywood dress code for dystopian, post-apocalyptic societies?</td>\n",
       "                        <td id=\"T_31c0d8ca_f1a9_11eb_9133_0242ac150003row2_col1\" class=\"data row2 col1\" >Studded leather and heavy eye makeup have been around for a long time. It's not a new thing.  URL_0  It's just Hollywood decided it was a good idea to use it in a post-apocalyptic setting, so it became the standard. The same thing happened in the 80s, 90s, and 00s.</td>\n",
       "            </tr>\n",
       "            <tr>\n",
       "                        <th id=\"T_31c0d8ca_f1a9_11eb_9133_0242ac150003level0_row3\" class=\"row_heading level0 row3\" >3</th>\n",
       "                        <td id=\"T_31c0d8ca_f1a9_11eb_9133_0242ac150003row3_col0\" class=\"data row3 col0\" >What's the difference between a bush, a shrub, and a tree?</td>\n",
       "                        <td id=\"T_31c0d8ca_f1a9_11eb_9133_0242ac150003row3_col1\" class=\"data row3 col1\" >A tree is a living thing. A shrub is a type of plant. A bush is a kind of plant that grows in the ground. A tree has a trunk, a shrub has a root system, and a bush has a stem. It's a bit of a misnomer to say that a \"tree\" is a \"branch\" of a \"bush\".</td>\n",
       "            </tr>\n",
       "            <tr>\n",
       "                        <th id=\"T_31c0d8ca_f1a9_11eb_9133_0242ac150003level0_row4\" class=\"row_heading level0 row4\" >4</th>\n",
       "                        <td id=\"T_31c0d8ca_f1a9_11eb_9133_0242ac150003row4_col0\" class=\"data row4 col0\" >Why is it hard to breathe with a strong air gust blowing straight at your face?</td>\n",
       "                        <td id=\"T_31c0d8ca_f1a9_11eb_9133_0242ac150003row4_col1\" class=\"data row4 col1\" >It's not hard to breathe with a strong air gust blowing straight at your face. It's hard to breath when the wind is blowing in the opposite direction. The wind is pushing air away from your face, and the air you're trying to inhale is trying to go the other way. So you're not getting enough air into your lungs.</td>\n",
       "            </tr>\n",
       "    </tbody></table>"
      ],
      "text/plain": [
       "<pandas.io.formats.style.Styler at 0x7fab2a06af28>"
      ]
     },
     "execution_count": 11,
     "metadata": {},
     "output_type": "execute_result"
    }
   ],
   "source": [
    "questions = []\n",
    "answers = []\n",
    "\n",
    "for i in [12342] + [j for j in range(4)]:\n",
    "    # create support document with the dense index\n",
    "    question = eli5['test_eli5'][i]['title']\n",
    "    answer = answer_on(question)[0]\n",
    "    questions += [question]\n",
    "    answers += [answer]\n",
    "\n",
    "df = pd.DataFrame({\n",
    "    'Question': questions,\n",
    "    'Answer': answers,\n",
    "})\n",
    "df.style.set_properties(**{'text-align': 'left'})"
   ]
  },
  {
   "cell_type": "code",
   "execution_count": 33,
   "id": "86136a2c",
   "metadata": {},
   "outputs": [],
   "source": [
    "def print_answer(question):\n",
    "    answer = answer_on(question)[0]\n",
    "    print('Question:', question, '\\nAnswer:', answer)"
   ]
  },
  {
   "cell_type": "code",
   "execution_count": 34,
   "id": "d17e4a2b",
   "metadata": {},
   "outputs": [
    {
     "name": "stdout",
     "output_type": "stream",
     "text": [
      "Question: Why sky is blue? \n",
      "Answer: The sky is blue because the air is mostly made up of water droplets suspended in the air. Water droplets absorb blue light, which makes the sky look blue. It's the same reason the sky looks blue when you look at it through a telescope. The blue light from the sun is scattered by the atmosphere, so the sky appears blue.\n"
     ]
    }
   ],
   "source": [
    "print_answer('Why sky is blue?')"
   ]
  },
  {
   "cell_type": "code",
   "execution_count": 35,
   "id": "2f526116",
   "metadata": {},
   "outputs": [
    {
     "name": "stdout",
     "output_type": "stream",
     "text": [
      "Question: Why so hard to generate ideas? \n",
      "Answer: It's not hard to generate ideas, it's just hard to come up with the *idea* for the idea. It's like trying to think of an idea when you have no idea what you're going to do with it. You can think of it, but you don't know how to do it.\n"
     ]
    }
   ],
   "source": [
    "print_answer('Why so hard to generate ideas?')"
   ]
  },
  {
   "cell_type": "code",
   "execution_count": 36,
   "id": "a524d1b4",
   "metadata": {},
   "outputs": [
    {
     "name": "stdout",
     "output_type": "stream",
     "text": [
      "Question: Why we feels bad, when long time not sleep? \n",
      "Answer: When you don't sleep, your body releases a chemical called melatonin, which makes you feel sleepy. When you do sleep, it takes a while for melatonin to build up in your brain, so you feel groggy when you wake up and don't feel rested when you go back to sleep. This is why it's important to get a good night's sleep.\n"
     ]
    }
   ],
   "source": [
    "print_answer('Why we feels bad, when long time not sleep?')"
   ]
  },
  {
   "cell_type": "code",
   "execution_count": null,
   "id": "d6340f4f",
   "metadata": {},
   "outputs": [],
   "source": []
  }
 ],
 "metadata": {
  "kernelspec": {
   "display_name": "Python 3",
   "language": "python",
   "name": "python3"
  },
  "language_info": {
   "codemirror_mode": {
    "name": "ipython",
    "version": 3
   },
   "file_extension": ".py",
   "mimetype": "text/x-python",
   "name": "python",
   "nbconvert_exporter": "python",
   "pygments_lexer": "ipython3",
   "version": "3.6.9"
  }
 },
 "nbformat": 4,
 "nbformat_minor": 5
}
