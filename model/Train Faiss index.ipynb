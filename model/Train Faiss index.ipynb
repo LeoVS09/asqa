{
 "cells": [
  {
   "cell_type": "markdown",
   "id": "16e26cca",
   "metadata": {},
   "source": [
    "# Train index\n",
    "\n",
    "Will preform training on index, for compress it"
   ]
  },
  {
   "cell_type": "code",
   "execution_count": 1,
   "id": "1d2f26b9",
   "metadata": {},
   "outputs": [
    {
     "data": {
      "text/html": [
       "        <script type=\"text/javascript\">\n",
       "        window.PlotlyConfig = {MathJaxConfig: 'local'};\n",
       "        if (window.MathJax) {MathJax.Hub.Config({SVG: {font: \"STIX-Web\"}});}\n",
       "        if (typeof require !== 'undefined') {\n",
       "        require.undef(\"plotly\");\n",
       "        requirejs.config({\n",
       "            paths: {\n",
       "                'plotly': ['https://cdn.plot.ly/plotly-2.2.0.min']\n",
       "            }\n",
       "        });\n",
       "        require(['plotly'], function(Plotly) {\n",
       "            window._Plotly = Plotly;\n",
       "        });\n",
       "        }\n",
       "        </script>\n",
       "        "
      ]
     },
     "metadata": {},
     "output_type": "display_data"
    },
    {
     "data": {
      "text/html": [
       "        <script type=\"text/javascript\">\n",
       "        window.PlotlyConfig = {MathJaxConfig: 'local'};\n",
       "        if (window.MathJax) {MathJax.Hub.Config({SVG: {font: \"STIX-Web\"}});}\n",
       "        if (typeof require !== 'undefined') {\n",
       "        require.undef(\"plotly\");\n",
       "        requirejs.config({\n",
       "            paths: {\n",
       "                'plotly': ['https://cdn.plot.ly/plotly-2.2.0.min']\n",
       "            }\n",
       "        });\n",
       "        require(['plotly'], function(Plotly) {\n",
       "            window._Plotly = Plotly;\n",
       "        });\n",
       "        }\n",
       "        </script>\n",
       "        "
      ]
     },
     "metadata": {},
     "output_type": "display_data"
    }
   ],
   "source": [
    "# plotly standard imports\n",
    "import plotly.graph_objs as go\n",
    "import chart_studio.plotly as py\n",
    "\n",
    "# Cufflinks wrapper on plotly\n",
    "import cufflinks\n",
    "\n",
    "# Data science imports\n",
    "import pandas as pd\n",
    "import numpy as np\n",
    "\n",
    "# Options for pandas\n",
    "pd.options.display.max_columns = 30\n",
    "\n",
    "# Display all cell outputs\n",
    "from IPython.core.interactiveshell import InteractiveShell\n",
    "InteractiveShell.ast_node_interactivity = 'all'\n",
    "\n",
    "from plotly.offline import iplot, init_notebook_mode\n",
    "cufflinks.go_offline(connected=True)\n",
    "init_notebook_mode(connected=True)\n",
    "\n",
    "# Set global theme\n",
    "cufflinks.set_config_file(world_readable=True, theme='pearl')"
   ]
  },
  {
   "cell_type": "markdown",
   "id": "4b9e1f2e",
   "metadata": {},
   "source": [
    "## Save simple index\n",
    "\n",
    "Save simple index without compression"
   ]
  },
  {
   "cell_type": "code",
   "execution_count": 2,
   "id": "d7cf3f98",
   "metadata": {},
   "outputs": [],
   "source": [
    "import numpy as np\n",
    "\n",
    "num_rows = 17553713\n",
    "batch_size = 128\n",
    "\n",
    "filename = './indexes/wiki40b_passages_reps_32_l-8_h-768_b-512-512.dat'\n",
    "\n",
    "passages_reps = np.memmap(\n",
    "    filename,\n",
    "    dtype='float32', mode='r',\n",
    "    shape=(num_rows, batch_size)\n",
    ")"
   ]
  },
  {
   "cell_type": "markdown",
   "id": "a13416d1",
   "metadata": {},
   "source": [
    "# Train index with compression"
   ]
  },
  {
   "cell_type": "code",
   "execution_count": 3,
   "id": "11c83c08",
   "metadata": {},
   "outputs": [],
   "source": [
    "import faiss\n",
    "\n",
    "# Explanation https://github.com/facebookresearch/faiss/wiki/Guidelines-to-choose-an-index\n",
    "D = batch_size\n",
    "M = D // 4\n",
    "K = 262144\n",
    "n_bits = 2 * D\n",
    "\n",
    "index = faiss.index_factory(D, f'IVF{K},PQ128')\n",
    "# index = faiss.index_factory(D, f'IVF{K},PQ32') # high compress\n",
    "# index = faiss.index_factory(D, f'IVF{K},SQfp16') compress two times\n",
    "# index = faiss.index_factory(D, 'PCA64,Flat')\n",
    "# index = faiss.index_factory(D, 'PCAR64,Flat')\n",
    "# index = faiss.IndexLSH(D, n_bits) # hashing, high compression\n",
    "# index = faiss.IndexFlatIP(batch_size) # no compression\n",
    "# index = faiss.IndexScalarQuantizer(D, getattr(faiss.ScalarQuantizer, 'QT_fp16')) # minimal compression\n",
    "# index = faiss.index_factory(batch_size, f'OPQ{M}_{D},IVF{K}_HNSW32,PQ{M}') # High compression, speed 0.017760442368741334 p/s\n",
    "# index = faiss.index_factory(batch_size, f'OPQ{M}_{D},IVF{K}_HNSW32,PQ{M}x4fsr') # Low compression, speed 0.016993699426944037 p/s\n",
    "\n",
    "# index = faiss.IndexBinaryFlat(D)\n",
    "# if binary\n",
    "# passages_reps = np.empty((passages_reps, D // 8), dtype='uint8')\n",
    "\n"
   ]
  },
  {
   "cell_type": "code",
   "execution_count": 4,
   "id": "15eb7c6d",
   "metadata": {},
   "outputs": [],
   "source": [
    "save_index_filename = './indexes/IVF262144_PQ128_wiki40b_num_17553713_nprobe_2048.index'"
   ]
  },
  {
   "cell_type": "code",
   "execution_count": 5,
   "id": "6c2508ed",
   "metadata": {},
   "outputs": [
    {
     "data": {
      "text/plain": [
       "17553713"
      ]
     },
     "execution_count": 5,
     "metadata": {},
     "output_type": "execute_result"
    }
   ],
   "source": [
    "len(passages_reps)"
   ]
  },
  {
   "cell_type": "code",
   "execution_count": 6,
   "id": "9d524acd",
   "metadata": {},
   "outputs": [
    {
     "data": {
      "text/plain": [
       "False"
      ]
     },
     "execution_count": 6,
     "metadata": {},
     "output_type": "execute_result"
    }
   ],
   "source": [
    "index.is_trained"
   ]
  },
  {
   "cell_type": "code",
   "execution_count": 7,
   "id": "472e689e",
   "metadata": {},
   "outputs": [
    {
     "name": "stdout",
     "output_type": "stream",
     "text": [
      "Nprobe 2048\n"
     ]
    }
   ],
   "source": [
    "if index.nprobe is not None:\n",
    "    index.nprobe = 2048\n",
    "    print('Nprobe', index.nprobe)"
   ]
  },
  {
   "cell_type": "code",
   "execution_count": 8,
   "id": "2a0d5e25",
   "metadata": {},
   "outputs": [],
   "source": [
    "# if not index.is_trained:\n",
    "#     faiss_res = faiss.StandardGpuResources()\n",
    "\n",
    "#     index = faiss.index_cpu_to_gpu(faiss_res, 0, index)\n",
    "\n",
    "#     params = faiss.GpuParameterSpace()\n",
    "#     params.initialize(index)"
   ]
  },
  {
   "cell_type": "code",
   "execution_count": 9,
   "id": "875a0f68",
   "metadata": {},
   "outputs": [
    {
     "data": {
      "text/plain": [
       "17553713"
      ]
     },
     "execution_count": 9,
     "metadata": {},
     "output_type": "execute_result"
    }
   ],
   "source": [
    "if not index.is_trained:\n",
    "    train_size = 100 * K\n",
    "    train_reps = passages_reps[:train_size]\n",
    "    len(train_reps)"
   ]
  },
  {
   "cell_type": "code",
   "execution_count": 10,
   "id": "274423df",
   "metadata": {},
   "outputs": [
    {
     "name": "stdout",
     "output_type": "stream",
     "text": [
      "Started at 2021-08-22 20:35:21.162023\n",
      "Will train 17553713\n"
     ]
    },
    {
     "ename": "KeyboardInterrupt",
     "evalue": "",
     "output_type": "error",
     "traceback": [
      "\u001b[0;31m---------------------------------------------------------------------------\u001b[0m",
      "\u001b[0;31mKeyboardInterrupt\u001b[0m                         Traceback (most recent call last)",
      "\u001b[0;32m<ipython-input-10-cedf0ba1ef24>\u001b[0m in \u001b[0;36m<module>\u001b[0;34m\u001b[0m\n\u001b[1;32m      7\u001b[0m     \u001b[0mprint\u001b[0m\u001b[0;34m(\u001b[0m\u001b[0;34m'Will train'\u001b[0m\u001b[0;34m,\u001b[0m \u001b[0mlen\u001b[0m\u001b[0;34m(\u001b[0m\u001b[0mtrain_reps\u001b[0m\u001b[0;34m)\u001b[0m\u001b[0;34m)\u001b[0m\u001b[0;34m\u001b[0m\u001b[0;34m\u001b[0m\u001b[0m\n\u001b[1;32m      8\u001b[0m \u001b[0;34m\u001b[0m\u001b[0m\n\u001b[0;32m----> 9\u001b[0;31m     \u001b[0mindex\u001b[0m\u001b[0;34m.\u001b[0m\u001b[0mtrain\u001b[0m\u001b[0;34m(\u001b[0m\u001b[0mtrain_reps\u001b[0m\u001b[0;34m)\u001b[0m\u001b[0;34m\u001b[0m\u001b[0;34m\u001b[0m\u001b[0m\n\u001b[0m\u001b[1;32m     10\u001b[0m \u001b[0;34m\u001b[0m\u001b[0m\n\u001b[1;32m     11\u001b[0m     \u001b[0mend\u001b[0m \u001b[0;34m=\u001b[0m \u001b[0mtime\u001b[0m\u001b[0;34m.\u001b[0m\u001b[0mtime\u001b[0m\u001b[0;34m(\u001b[0m\u001b[0;34m)\u001b[0m\u001b[0;34m\u001b[0m\u001b[0;34m\u001b[0m\u001b[0m\n",
      "\u001b[0;32m/usr/local/lib/python3.6/dist-packages/faiss/__init__.py\u001b[0m in \u001b[0;36mreplacement_train\u001b[0;34m(self, x)\u001b[0m\n\u001b[1;32m    257\u001b[0m         \u001b[0mn\u001b[0m\u001b[0;34m,\u001b[0m \u001b[0md\u001b[0m \u001b[0;34m=\u001b[0m \u001b[0mx\u001b[0m\u001b[0;34m.\u001b[0m\u001b[0mshape\u001b[0m\u001b[0;34m\u001b[0m\u001b[0;34m\u001b[0m\u001b[0m\n\u001b[1;32m    258\u001b[0m         \u001b[0;32massert\u001b[0m \u001b[0md\u001b[0m \u001b[0;34m==\u001b[0m \u001b[0mself\u001b[0m\u001b[0;34m.\u001b[0m\u001b[0md\u001b[0m\u001b[0;34m\u001b[0m\u001b[0;34m\u001b[0m\u001b[0m\n\u001b[0;32m--> 259\u001b[0;31m         \u001b[0mself\u001b[0m\u001b[0;34m.\u001b[0m\u001b[0mtrain_c\u001b[0m\u001b[0;34m(\u001b[0m\u001b[0mn\u001b[0m\u001b[0;34m,\u001b[0m \u001b[0mswig_ptr\u001b[0m\u001b[0;34m(\u001b[0m\u001b[0mx\u001b[0m\u001b[0;34m)\u001b[0m\u001b[0;34m)\u001b[0m\u001b[0;34m\u001b[0m\u001b[0;34m\u001b[0m\u001b[0m\n\u001b[0m\u001b[1;32m    260\u001b[0m \u001b[0;34m\u001b[0m\u001b[0m\n\u001b[1;32m    261\u001b[0m     \u001b[0;32mdef\u001b[0m \u001b[0mreplacement_search\u001b[0m\u001b[0;34m(\u001b[0m\u001b[0mself\u001b[0m\u001b[0;34m,\u001b[0m \u001b[0mx\u001b[0m\u001b[0;34m,\u001b[0m \u001b[0mk\u001b[0m\u001b[0;34m,\u001b[0m \u001b[0mD\u001b[0m\u001b[0;34m=\u001b[0m\u001b[0;32mNone\u001b[0m\u001b[0;34m,\u001b[0m \u001b[0mI\u001b[0m\u001b[0;34m=\u001b[0m\u001b[0;32mNone\u001b[0m\u001b[0;34m)\u001b[0m\u001b[0;34m:\u001b[0m\u001b[0;34m\u001b[0m\u001b[0;34m\u001b[0m\u001b[0m\n",
      "\u001b[0;32m/usr/local/lib/python3.6/dist-packages/faiss/swigfaiss.py\u001b[0m in \u001b[0;36mtrain\u001b[0;34m(self, n, x)\u001b[0m\n\u001b[1;32m   3353\u001b[0m \u001b[0;34m\u001b[0m\u001b[0m\n\u001b[1;32m   3354\u001b[0m     \u001b[0;32mdef\u001b[0m \u001b[0mtrain\u001b[0m\u001b[0;34m(\u001b[0m\u001b[0mself\u001b[0m\u001b[0;34m,\u001b[0m \u001b[0mn\u001b[0m\u001b[0;34m,\u001b[0m \u001b[0mx\u001b[0m\u001b[0;34m)\u001b[0m\u001b[0;34m:\u001b[0m\u001b[0;34m\u001b[0m\u001b[0;34m\u001b[0m\u001b[0m\n\u001b[0;32m-> 3355\u001b[0;31m         \u001b[0;32mreturn\u001b[0m \u001b[0m_swigfaiss\u001b[0m\u001b[0;34m.\u001b[0m\u001b[0mIndexIVF_train\u001b[0m\u001b[0;34m(\u001b[0m\u001b[0mself\u001b[0m\u001b[0;34m,\u001b[0m \u001b[0mn\u001b[0m\u001b[0;34m,\u001b[0m \u001b[0mx\u001b[0m\u001b[0;34m)\u001b[0m\u001b[0;34m\u001b[0m\u001b[0;34m\u001b[0m\u001b[0m\n\u001b[0m\u001b[1;32m   3356\u001b[0m \u001b[0;34m\u001b[0m\u001b[0m\n\u001b[1;32m   3357\u001b[0m     \u001b[0;32mdef\u001b[0m \u001b[0madd\u001b[0m\u001b[0;34m(\u001b[0m\u001b[0mself\u001b[0m\u001b[0;34m,\u001b[0m \u001b[0mn\u001b[0m\u001b[0;34m,\u001b[0m \u001b[0mx\u001b[0m\u001b[0;34m)\u001b[0m\u001b[0;34m:\u001b[0m\u001b[0;34m\u001b[0m\u001b[0;34m\u001b[0m\u001b[0m\n",
      "\u001b[0;31mKeyboardInterrupt\u001b[0m: "
     ]
    }
   ],
   "source": [
    "import time\n",
    "from datetime import datetime\n",
    "\n",
    "if not index.is_trained:\n",
    "    start = time.time()\n",
    "    print('Started at', datetime.fromtimestamp(start))\n",
    "    print('Will train', len(train_reps))\n",
    "\n",
    "    index.train(train_reps)\n",
    "\n",
    "    end = time.time()\n",
    "    seconds = end - start\n",
    "    print('Training took', seconds, 'seconds')\n",
    "    print('Hours', seconds / 60 / 60)\n",
    "\n",
    "    speed = len(train_reps) / seconds\n",
    "    print('Speed', speed, 'p/s')\n",
    "    \n",
    "#     opi = params.explore(index, xq, crit)\n",
    "#     opi.display()"
   ]
  },
  {
   "cell_type": "code",
   "execution_count": null,
   "id": "a6a7c752",
   "metadata": {},
   "outputs": [],
   "source": [
    "index.add(passages_reps)"
   ]
  },
  {
   "cell_type": "code",
   "execution_count": null,
   "id": "197b5543",
   "metadata": {},
   "outputs": [],
   "source": [
    "# index = faiss.index_gpu_to_cpu(index)"
   ]
  },
  {
   "cell_type": "code",
   "execution_count": null,
   "id": "8f807795",
   "metadata": {},
   "outputs": [],
   "source": [
    "faiss.write_index(index, save_index_filename)"
   ]
  },
  {
   "cell_type": "code",
   "execution_count": null,
   "id": "52376345",
   "metadata": {},
   "outputs": [],
   "source": [
    "index.nprobe"
   ]
  },
  {
   "cell_type": "code",
   "execution_count": null,
   "id": "5b29837b",
   "metadata": {},
   "outputs": [],
   "source": []
  }
 ],
 "metadata": {
  "kernelspec": {
   "display_name": "Python 3",
   "language": "python",
   "name": "python3"
  },
  "language_info": {
   "codemirror_mode": {
    "name": "ipython",
    "version": 3
   },
   "file_extension": ".py",
   "mimetype": "text/x-python",
   "name": "python",
   "nbconvert_exporter": "python",
   "pygments_lexer": "ipython3",
   "version": "3.6.9"
  }
 },
 "nbformat": 4,
 "nbformat_minor": 5
}
